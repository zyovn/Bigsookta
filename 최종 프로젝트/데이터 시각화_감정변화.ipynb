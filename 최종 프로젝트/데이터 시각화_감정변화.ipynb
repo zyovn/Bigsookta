{
 "cells": [
  {
   "cell_type": "code",
   "execution_count": 1,
   "id": "20608877",
   "metadata": {},
   "outputs": [],
   "source": [
    "%matplotlib inline\n",
    "import pandas as pd\n",
    "import seaborn as sns\n",
    "import matplotlib.pyplot as plt\n",
    "import numpy as np"
   ]
  },
  {
   "cell_type": "code",
   "execution_count": 2,
   "id": "e73a84da",
   "metadata": {},
   "outputs": [
    {
     "name": "stdout",
     "output_type": "stream",
     "text": [
      "['NanumGothic']\n"
     ]
    }
   ],
   "source": [
    "plt.rc('font' , family = 'NanumGothic')\n",
    "print(plt.rcParams['font.family'])"
   ]
  },
  {
   "cell_type": "code",
   "execution_count": 3,
   "id": "d6344085",
   "metadata": {},
   "outputs": [],
   "source": [
    "data  = pd.read_excel('C:/Users/i5-8250U/Desktop/빅숙타/코로나19 이후 국민의 일상 변화 원본 데이터.xlsx')"
   ]
  },
  {
   "cell_type": "code",
   "execution_count": 4,
   "id": "c638fd44",
   "metadata": {},
   "outputs": [
    {
     "data": {
      "text/plain": [
       "4    487\n",
       "3    302\n",
       "5    167\n",
       "2     39\n",
       "1      5\n",
       "Name: Q13_1, dtype: int64"
      ]
     },
     "execution_count": 4,
     "metadata": {},
     "output_type": "execute_result"
    }
   ],
   "source": [
    "data['Q13_1'].value_counts()"
   ]
  },
  {
   "cell_type": "code",
   "execution_count": 5,
   "id": "5b116920",
   "metadata": {},
   "outputs": [
    {
     "data": {
      "text/plain": [
       "5    235\n",
       "4    221\n",
       "2    193\n",
       "3    186\n",
       "6    165\n",
       "Name: SQ3_R, dtype: int64"
      ]
     },
     "execution_count": 5,
     "metadata": {},
     "output_type": "execute_result"
    }
   ],
   "source": [
    "data['SQ3_R'].value_counts()"
   ]
  },
  {
   "cell_type": "code",
   "execution_count": 39,
   "id": "4e6371e2",
   "metadata": {},
   "outputs": [
    {
     "data": {
      "text/plain": [
       "Text(0, 0.5, '연령')"
      ]
     },
     "execution_count": 39,
     "metadata": {},
     "output_type": "execute_result"
    },
    {
     "data": {
      "image/png": "[encoded data removed]",
      "text/plain": [
       "<Figure size 432x288 with 1 Axes>"
      ]
     },
     "metadata": {
      "needs_background": "light"
     },
     "output_type": "display_data"
    }
   ],
   "source": [
    "sns.barplot(x='Q13_1' , y='SQ3_R', data  = pd.read_excel('C:/Users/i5-8250U/Desktop/빅숙타/코로나19 이후 국민의 일상 변화 원본 데이터.xlsx') )\n",
    "plt.xlabel('불안 또는 두려움')\n",
    "plt.ylabel('연령')"
   ]
  },
  {
   "cell_type": "code",
   "execution_count": 40,
   "id": "236c71e2",
   "metadata": {},
   "outputs": [
    {
     "data": {
      "text/plain": [
       "3    430\n",
       "4    413\n",
       "5    111\n",
       "2     42\n",
       "1      4\n",
       "Name: Q13_2, dtype: int64"
      ]
     },
     "execution_count": 40,
     "metadata": {},
     "output_type": "execute_result"
    }
   ],
   "source": [
    "data['Q13_2'].value_counts()"
   ]
  },
  {
   "cell_type": "code",
   "execution_count": 41,
   "id": "b3650937",
   "metadata": {},
   "outputs": [
    {
     "data": {
      "text/plain": [
       "Text(0, 0.5, '연령')"
      ]
     },
     "execution_count": 41,
     "metadata": {},
     "output_type": "execute_result"
    },
    {
     "data": {
      "image/png": "[encoded data removed]",
      "text/plain": [
       "<Figure size 432x288 with 1 Axes>"
      ]
     },
     "metadata": {
      "needs_background": "light"
     },
     "output_type": "display_data"
    }
   ],
   "source": [
    "sns.barplot(x='Q13_2' , y='SQ3_R', data  = pd.read_excel('C:/Users/i5-8250U/Desktop/빅숙타/코로나19 이후 국민의 일상 변화 원본 데이터.xlsx') )\n",
    "plt.xlabel('무기력감 또는 좌절감')\n",
    "plt.ylabel('연령')"
   ]
  },
  {
   "cell_type": "code",
   "execution_count": 42,
   "id": "85b3d4a7",
   "metadata": {},
   "outputs": [
    {
     "data": {
      "text/plain": [
       "4    476\n",
       "3    355\n",
       "5    132\n",
       "2     33\n",
       "1      4\n",
       "Name: Q13_3, dtype: int64"
      ]
     },
     "execution_count": 42,
     "metadata": {},
     "output_type": "execute_result"
    }
   ],
   "source": [
    "data['Q13_3'].value_counts()"
   ]
  },
  {
   "cell_type": "code",
   "execution_count": 43,
   "id": "9b99c8a5",
   "metadata": {},
   "outputs": [
    {
     "data": {
      "text/plain": [
       "Text(0, 0.5, '연령')"
      ]
     },
     "execution_count": 43,
     "metadata": {},
     "output_type": "execute_result"
    },
    {
     "data": {
      "image/png": "[encoded data removed]",
      "text/plain": [
       "<Figure size 432x288 with 1 Axes>"
      ]
     },
     "metadata": {
      "needs_background": "light"
     },
     "output_type": "display_data"
    }
   ],
   "source": [
    "sns.barplot(x='Q13_3' , y='SQ3_R', data  = pd.read_excel('C:/Users/i5-8250U/Desktop/빅숙타/코로나19 이후 국민의 일상 변화 원본 데이터.xlsx') )\n",
    "plt.xlabel('짜증 또는 화')\n",
    "plt.ylabel('연령')"
   ]
  },
  {
   "cell_type": "code",
   "execution_count": 44,
   "id": "1dccbb1c",
   "metadata": {},
   "outputs": [
    {
     "data": {
      "text/plain": [
       "4    379\n",
       "3    365\n",
       "5    216\n",
       "2     31\n",
       "1      9\n",
       "Name: Q13_4, dtype: int64"
      ]
     },
     "execution_count": 44,
     "metadata": {},
     "output_type": "execute_result"
    }
   ],
   "source": [
    "data['Q13_4'].value_counts()"
   ]
  },
  {
   "cell_type": "code",
   "execution_count": 45,
   "id": "fcf4632d",
   "metadata": {},
   "outputs": [
    {
     "data": {
      "text/plain": [
       "Text(0, 0.5, '연령')"
      ]
     },
     "execution_count": 45,
     "metadata": {},
     "output_type": "execute_result"
    },
    {
     "data": {
      "image/png": "[encoded data removed]",
      "text/plain": [
       "<Figure size 432x288 with 1 Axes>"
      ]
     },
     "metadata": {
      "needs_background": "light"
     },
     "output_type": "display_data"
    }
   ],
   "source": [
    "sns.barplot(x='Q13_4' , y='SQ3_R', data  = pd.read_excel('C:/Users/i5-8250U/Desktop/빅숙타/코로나19 이후 국민의 일상 변화 원본 데이터.xlsx') )\n",
    "plt.xlabel('특정 대상을 향한 분노 또는 혐오')\n",
    "plt.ylabel('연령')"
   ]
  },
  {
   "cell_type": "code",
   "execution_count": 46,
   "id": "8839ff5a",
   "metadata": {},
   "outputs": [
    {
     "data": {
      "text/plain": [
       "3    461\n",
       "4    254\n",
       "2    183\n",
       "1     63\n",
       "5     39\n",
       "Name: Q13_5, dtype: int64"
      ]
     },
     "execution_count": 46,
     "metadata": {},
     "output_type": "execute_result"
    }
   ],
   "source": [
    "data['Q13_5'].value_counts()"
   ]
  },
  {
   "cell_type": "code",
   "execution_count": 47,
   "id": "8df81ab2",
   "metadata": {},
   "outputs": [
    {
     "data": {
      "text/plain": [
       "Text(0, 0.5, '연령')"
      ]
     },
     "execution_count": 47,
     "metadata": {},
     "output_type": "execute_result"
    },
    {
     "data": {
      "image/png": "[encoded data removed]",
      "text/plain": [
       "<Figure size 432x288 with 1 Axes>"
      ]
     },
     "metadata": {
      "needs_background": "light"
     },
     "output_type": "display_data"
    }
   ],
   "source": [
    "sns.barplot(x='Q13_5' , y='SQ3_R', data  = pd.read_excel('C:/Users/i5-8250U/Desktop/빅숙타/코로나19 이후 국민의 일상 변화 원본 데이터.xlsx') )\n",
    "plt.xlabel('감사함 또는 안도감')\n",
    "plt.ylabel('연령')"
   ]
  },
  {
   "cell_type": "code",
   "execution_count": 48,
   "id": "51034d4e",
   "metadata": {},
   "outputs": [
    {
     "data": {
      "text/plain": [
       "4    565\n",
       "5    215\n",
       "3    190\n",
       "2     29\n",
       "1      1\n",
       "Name: Q13_6, dtype: int64"
      ]
     },
     "execution_count": 48,
     "metadata": {},
     "output_type": "execute_result"
    }
   ],
   "source": [
    "data['Q13_6'].value_counts()"
   ]
  },
  {
   "cell_type": "code",
   "execution_count": 49,
   "id": "b679437a",
   "metadata": {},
   "outputs": [
    {
     "data": {
      "text/plain": [
       "Text(0, 0.5, '연령')"
      ]
     },
     "execution_count": 49,
     "metadata": {},
     "output_type": "execute_result"
    },
    {
     "data": {
      "image/png": "[encoded data removed]",
      "text/plain": [
       "<Figure size 432x288 with 1 Axes>"
      ]
     },
     "metadata": {
      "needs_background": "light"
     },
     "output_type": "display_data"
    }
   ],
   "source": [
    "sns.barplot(x='Q13_6' , y='SQ3_R', data  = pd.read_excel('C:/Users/i5-8250U/Desktop/빅숙타/코로나19 이후 국민의 일상 변화 원본 데이터.xlsx') )\n",
    "plt.xlabel('걱정 또는 스트레스')\n",
    "plt.ylabel('연령')"
   ]
  },
  {
   "cell_type": "code",
   "execution_count": 50,
   "id": "0e7e6fd0",
   "metadata": {},
   "outputs": [
    {
     "data": {
      "text/plain": [
       "3    504\n",
       "4    386\n",
       "5     78\n",
       "2     29\n",
       "1      3\n",
       "Name: Q13_7, dtype: int64"
      ]
     },
     "execution_count": 50,
     "metadata": {},
     "output_type": "execute_result"
    }
   ],
   "source": [
    "data['Q13_7'].value_counts()"
   ]
  },
  {
   "cell_type": "code",
   "execution_count": 51,
   "id": "09b28a55",
   "metadata": {},
   "outputs": [
    {
     "data": {
      "text/plain": [
       "Text(0, 0.5, '연령')"
      ]
     },
     "execution_count": 51,
     "metadata": {},
     "output_type": "execute_result"
    },
    {
     "data": {
      "image/png": "[encoded data removed]",
      "text/plain": [
       "<Figure size 432x288 with 1 Axes>"
      ]
     },
     "metadata": {
      "needs_background": "light"
     },
     "output_type": "display_data"
    }
   ],
   "source": [
    "sns.barplot(x='Q13_7' , y='SQ3_R', data  = pd.read_excel('C:/Users/i5-8250U/Desktop/빅숙타/코로나19 이후 국민의 일상 변화 원본 데이터.xlsx') )\n",
    "plt.xlabel('외로움 또는 우울함')\n",
    "plt.ylabel('연령')"
   ]
  },
  {
   "cell_type": "code",
   "execution_count": 52,
   "id": "09212b4b",
   "metadata": {},
   "outputs": [
    {
     "data": {
      "text/plain": [
       "3    403\n",
       "4    273\n",
       "2    140\n",
       "1    103\n",
       "5     81\n",
       "Name: Q13_8, dtype: int64"
      ]
     },
     "execution_count": 52,
     "metadata": {},
     "output_type": "execute_result"
    }
   ],
   "source": [
    "data['Q13_8'].value_counts()"
   ]
  },
  {
   "cell_type": "code",
   "execution_count": 54,
   "id": "2277484f",
   "metadata": {},
   "outputs": [
    {
     "data": {
      "text/plain": [
       "Text(0, 0.5, '연령')"
      ]
     },
     "execution_count": 54,
     "metadata": {},
     "output_type": "execute_result"
    },
    {
     "data": {
      "image/png": "[encoded data removed]",
      "text/plain": [
       "<Figure size 432x288 with 1 Axes>"
      ]
     },
     "metadata": {
      "needs_background": "light"
     },
     "output_type": "display_data"
    }
   ],
   "source": [
    "sns.barplot(x='Q13_8' , y='SQ3_R', data  = pd.read_excel('C:/Users/i5-8250U/Desktop/빅숙타/코로나19 이후 국민의 일상 변화 원본 데이터.xlsx') )\n",
    "plt.xlabel('국가나 사회에 대한 자긍심 또는 자부심')\n",
    "plt.ylabel('연령')"
   ]
  }
 ],
 "metadata": {
  "kernelspec": {
   "display_name": "Python 3 (ipykernel)",
   "language": "python",
   "name": "python3"
  },
  "language_info": {
   "codemirror_mode": {
    "name": "ipython",
    "version": 3
   },
   "file_extension": ".py",
   "mimetype": "text/x-python",
   "name": "python",
   "nbconvert_exporter": "python",
   "pygments_lexer": "ipython3",
   "version": "3.9.7"
  }
 },
 "nbformat": 4,
 "nbformat_minor": 5
}
