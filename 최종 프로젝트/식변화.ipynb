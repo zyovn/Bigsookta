{
 "cells": [
  {
   "cell_type": "code",
   "execution_count": 13,
   "metadata": {},
   "outputs": [],
   "source": [
    "import pandas as pd\n",
    "import numpy as np\n",
    "\n",
    "import matplotlib.pyplot as plt \n",
    "import matplotlib\n",
    "from wordcloud import WordCloud\n",
    "\n",
    "import plotly \n",
    "import plotly.express as px\n",
    "import plotly.graph_objs as go\n",
    "import plotly.offline as py\n",
    "from plotly.offline import iplot\n",
    "from plotly.subplots import make_subplots\n",
    "import plotly.figure_factory as ff\n",
    "import seaborn as sns\n",
    "import missingno as msno\n",
    "import warnings \n",
    "warnings.filterwarnings(\"ignore\") \n"
   ]
  },
  {
   "cell_type": "code",
   "execution_count": 4,
   "metadata": {},
   "outputs": [
    {
     "data": {
      "text/html": [
       "<div>\n",
       "<style scoped>\n",
       "    .dataframe tbody tr th:only-of-type {\n",
       "        vertical-align: middle;\n",
       "    }\n",
       "\n",
       "    .dataframe tbody tr th {\n",
       "        vertical-align: top;\n",
       "    }\n",
       "\n",
       "    .dataframe thead th {\n",
       "        text-align: right;\n",
       "    }\n",
       "</style>\n",
       "<table border=\"1\" class=\"dataframe\">\n",
       "  <thead>\n",
       "    <tr style=\"text-align: right;\">\n",
       "      <th></th>\n",
       "      <th>외식</th>\n",
       "      <th>배달음식</th>\n",
       "      <th>직접요리</th>\n",
       "      <th>코로나 종식_외식</th>\n",
       "      <th>코로나 종식_배달</th>\n",
       "      <th>코로나 종식_직접요리</th>\n",
       "    </tr>\n",
       "  </thead>\n",
       "  <tbody>\n",
       "    <tr>\n",
       "      <th>0</th>\n",
       "      <td>많이 증가</td>\n",
       "      <td>많이 증가</td>\n",
       "      <td>조금 증가</td>\n",
       "      <td>복귀</td>\n",
       "      <td>유지</td>\n",
       "      <td>복귀</td>\n",
       "    </tr>\n",
       "    <tr>\n",
       "      <th>1</th>\n",
       "      <td>조금 증가</td>\n",
       "      <td>많이 증가</td>\n",
       "      <td>변화없음</td>\n",
       "      <td>복귀</td>\n",
       "      <td>복귀</td>\n",
       "      <td>NaN</td>\n",
       "    </tr>\n",
       "    <tr>\n",
       "      <th>2</th>\n",
       "      <td>많이 감소</td>\n",
       "      <td>많이 증가</td>\n",
       "      <td>많이 증가</td>\n",
       "      <td>유지</td>\n",
       "      <td>유지</td>\n",
       "      <td>유지</td>\n",
       "    </tr>\n",
       "    <tr>\n",
       "      <th>3</th>\n",
       "      <td>조금 증가</td>\n",
       "      <td>많이 증가</td>\n",
       "      <td>조금 증가</td>\n",
       "      <td>유지</td>\n",
       "      <td>유지</td>\n",
       "      <td>복귀</td>\n",
       "    </tr>\n",
       "    <tr>\n",
       "      <th>4</th>\n",
       "      <td>변화없음</td>\n",
       "      <td>조금 증가</td>\n",
       "      <td>조금 증가</td>\n",
       "      <td>NaN</td>\n",
       "      <td>유지</td>\n",
       "      <td>유지</td>\n",
       "    </tr>\n",
       "    <tr>\n",
       "      <th>...</th>\n",
       "      <td>...</td>\n",
       "      <td>...</td>\n",
       "      <td>...</td>\n",
       "      <td>...</td>\n",
       "      <td>...</td>\n",
       "      <td>...</td>\n",
       "    </tr>\n",
       "    <tr>\n",
       "      <th>995</th>\n",
       "      <td>조금 감소</td>\n",
       "      <td>조금 증가</td>\n",
       "      <td>조금 증가</td>\n",
       "      <td>복귀</td>\n",
       "      <td>유지</td>\n",
       "      <td>유지</td>\n",
       "    </tr>\n",
       "    <tr>\n",
       "      <th>996</th>\n",
       "      <td>많이 증가</td>\n",
       "      <td>많이 증가</td>\n",
       "      <td>조금 증가</td>\n",
       "      <td>복귀</td>\n",
       "      <td>유지</td>\n",
       "      <td>유지</td>\n",
       "    </tr>\n",
       "    <tr>\n",
       "      <th>997</th>\n",
       "      <td>조금 증가</td>\n",
       "      <td>조금 감소</td>\n",
       "      <td>많이 감소</td>\n",
       "      <td>유지</td>\n",
       "      <td>유지</td>\n",
       "      <td>유지</td>\n",
       "    </tr>\n",
       "    <tr>\n",
       "      <th>998</th>\n",
       "      <td>조금 증가</td>\n",
       "      <td>조금 증가</td>\n",
       "      <td>변화없음</td>\n",
       "      <td>유지</td>\n",
       "      <td>유지</td>\n",
       "      <td>NaN</td>\n",
       "    </tr>\n",
       "    <tr>\n",
       "      <th>999</th>\n",
       "      <td>변화없음</td>\n",
       "      <td>많이 증가</td>\n",
       "      <td>조금 증가</td>\n",
       "      <td>NaN</td>\n",
       "      <td>복귀</td>\n",
       "      <td>유지</td>\n",
       "    </tr>\n",
       "  </tbody>\n",
       "</table>\n",
       "<p>1000 rows × 6 columns</p>\n",
       "</div>"
      ],
      "text/plain": [
       "        외식   배달음식   직접요리 코로나 종식_외식 코로나 종식_배달 코로나 종식_직접요리\n",
       "0    많이 증가  많이 증가  조금 증가        복귀        유지          복귀\n",
       "1    조금 증가  많이 증가   변화없음        복귀        복귀         NaN\n",
       "2    많이 감소  많이 증가  많이 증가        유지        유지          유지\n",
       "3    조금 증가  많이 증가  조금 증가        유지        유지          복귀\n",
       "4     변화없음  조금 증가  조금 증가       NaN        유지          유지\n",
       "..     ...    ...    ...       ...       ...         ...\n",
       "995  조금 감소  조금 증가  조금 증가        복귀        유지          유지\n",
       "996  많이 증가  많이 증가  조금 증가        복귀        유지          유지\n",
       "997  조금 증가  조금 감소  많이 감소        유지        유지          유지\n",
       "998  조금 증가  조금 증가   변화없음        유지        유지         NaN\n",
       "999   변화없음  많이 증가  조금 증가       NaN        복귀          유지\n",
       "\n",
       "[1000 rows x 6 columns]"
      ]
     },
     "execution_count": 4,
     "metadata": {},
     "output_type": "execute_result"
    }
   ],
   "source": [
    "df= pd.read_csv('식 변화.csv')\n",
    "df"
   ]
  },
  {
   "cell_type": "code",
   "execution_count": 5,
   "metadata": {},
   "outputs": [
    {
     "data": {
      "text/plain": [
       "많이 감소    287\n",
       "조금 감소    281\n",
       "변화없음     259\n",
       "조금 증가    132\n",
       "많이 증가     38\n",
       "해당없음       3\n",
       "Name: 외식, dtype: int64"
      ]
     },
     "execution_count": 5,
     "metadata": {},
     "output_type": "execute_result"
    }
   ],
   "source": [
    "df['외식'].value_counts()"
   ]
  },
  {
   "cell_type": "code",
   "execution_count": 6,
   "metadata": {},
   "outputs": [
    {
     "data": {
      "text/plain": [
       "외식               0\n",
       "배달음식             0\n",
       "직접요리             0\n",
       "코로나 종식_외식      262\n",
       "코로나 종식_배달      298\n",
       "코로나 종식_직접요리    341\n",
       "dtype: int64"
      ]
     },
     "execution_count": 6,
     "metadata": {},
     "output_type": "execute_result"
    }
   ],
   "source": [
    "df.isnull().sum()"
   ]
  },
  {
   "cell_type": "code",
   "execution_count": 7,
   "metadata": {},
   "outputs": [
    {
     "data": {
      "text/html": [
       "<div>\n",
       "<style scoped>\n",
       "    .dataframe tbody tr th:only-of-type {\n",
       "        vertical-align: middle;\n",
       "    }\n",
       "\n",
       "    .dataframe tbody tr th {\n",
       "        vertical-align: top;\n",
       "    }\n",
       "\n",
       "    .dataframe thead th {\n",
       "        text-align: right;\n",
       "    }\n",
       "</style>\n",
       "<table border=\"1\" class=\"dataframe\">\n",
       "  <thead>\n",
       "    <tr style=\"text-align: right;\">\n",
       "      <th></th>\n",
       "      <th>외식</th>\n",
       "      <th>0</th>\n",
       "    </tr>\n",
       "  </thead>\n",
       "  <tbody>\n",
       "    <tr>\n",
       "      <th>0</th>\n",
       "      <td>많이 감소</td>\n",
       "      <td>287</td>\n",
       "    </tr>\n",
       "    <tr>\n",
       "      <th>1</th>\n",
       "      <td>많이 증가</td>\n",
       "      <td>38</td>\n",
       "    </tr>\n",
       "    <tr>\n",
       "      <th>2</th>\n",
       "      <td>변화없음</td>\n",
       "      <td>259</td>\n",
       "    </tr>\n",
       "    <tr>\n",
       "      <th>3</th>\n",
       "      <td>조금 감소</td>\n",
       "      <td>281</td>\n",
       "    </tr>\n",
       "    <tr>\n",
       "      <th>4</th>\n",
       "      <td>조금 증가</td>\n",
       "      <td>132</td>\n",
       "    </tr>\n",
       "    <tr>\n",
       "      <th>5</th>\n",
       "      <td>해당없음</td>\n",
       "      <td>3</td>\n",
       "    </tr>\n",
       "  </tbody>\n",
       "</table>\n",
       "</div>"
      ],
      "text/plain": [
       "      외식    0\n",
       "0  많이 감소  287\n",
       "1  많이 증가   38\n",
       "2   변화없음  259\n",
       "3  조금 감소  281\n",
       "4  조금 증가  132\n",
       "5   해당없음    3"
      ]
     },
     "execution_count": 7,
     "metadata": {},
     "output_type": "execute_result"
    }
   ],
   "source": [
    "a=df.groupby('외식').size()\n",
    "a\n",
    "a1=pd.DataFrame(a)\n",
    "a1.to_csv('외식임')\n",
    "aa=pd.read_csv('외식임')\n",
    "aa"
   ]
  },
  {
   "cell_type": "code",
   "execution_count": 9,
   "metadata": {},
   "outputs": [
    {
     "data": {
      "text/html": [
       "<div>\n",
       "<style scoped>\n",
       "    .dataframe tbody tr th:only-of-type {\n",
       "        vertical-align: middle;\n",
       "    }\n",
       "\n",
       "    .dataframe tbody tr th {\n",
       "        vertical-align: top;\n",
       "    }\n",
       "\n",
       "    .dataframe thead th {\n",
       "        text-align: right;\n",
       "    }\n",
       "</style>\n",
       "<table border=\"1\" class=\"dataframe\">\n",
       "  <thead>\n",
       "    <tr style=\"text-align: right;\">\n",
       "      <th></th>\n",
       "      <th>배달음식</th>\n",
       "      <th>0</th>\n",
       "    </tr>\n",
       "  </thead>\n",
       "  <tbody>\n",
       "    <tr>\n",
       "      <th>0</th>\n",
       "      <td>많이 감소</td>\n",
       "      <td>64</td>\n",
       "    </tr>\n",
       "    <tr>\n",
       "      <th>1</th>\n",
       "      <td>많이 증가</td>\n",
       "      <td>184</td>\n",
       "    </tr>\n",
       "    <tr>\n",
       "      <th>2</th>\n",
       "      <td>변화없음</td>\n",
       "      <td>269</td>\n",
       "    </tr>\n",
       "    <tr>\n",
       "      <th>3</th>\n",
       "      <td>조금 감소</td>\n",
       "      <td>72</td>\n",
       "    </tr>\n",
       "    <tr>\n",
       "      <th>4</th>\n",
       "      <td>조금 증가</td>\n",
       "      <td>382</td>\n",
       "    </tr>\n",
       "    <tr>\n",
       "      <th>5</th>\n",
       "      <td>해당없음</td>\n",
       "      <td>29</td>\n",
       "    </tr>\n",
       "  </tbody>\n",
       "</table>\n",
       "</div>"
      ],
      "text/plain": [
       "    배달음식    0\n",
       "0  많이 감소   64\n",
       "1  많이 증가  184\n",
       "2   변화없음  269\n",
       "3  조금 감소   72\n",
       "4  조금 증가  382\n",
       "5   해당없음   29"
      ]
     },
     "execution_count": 9,
     "metadata": {},
     "output_type": "execute_result"
    }
   ],
   "source": [
    "b=df.groupby('배달음식').size()\n",
    "b\n",
    "b1=pd.DataFrame(b)\n",
    "b1.to_csv('배달음식임')\n",
    "bb=pd.read_csv('배달음식임')\n",
    "bb"
   ]
  },
  {
   "cell_type": "code",
   "execution_count": 10,
   "metadata": {},
   "outputs": [
    {
     "data": {
      "text/html": [
       "<div>\n",
       "<style scoped>\n",
       "    .dataframe tbody tr th:only-of-type {\n",
       "        vertical-align: middle;\n",
       "    }\n",
       "\n",
       "    .dataframe tbody tr th {\n",
       "        vertical-align: top;\n",
       "    }\n",
       "\n",
       "    .dataframe thead th {\n",
       "        text-align: right;\n",
       "    }\n",
       "</style>\n",
       "<table border=\"1\" class=\"dataframe\">\n",
       "  <thead>\n",
       "    <tr style=\"text-align: right;\">\n",
       "      <th></th>\n",
       "      <th>직접요리</th>\n",
       "      <th>0</th>\n",
       "    </tr>\n",
       "  </thead>\n",
       "  <tbody>\n",
       "    <tr>\n",
       "      <th>0</th>\n",
       "      <td>많이 감소</td>\n",
       "      <td>13</td>\n",
       "    </tr>\n",
       "    <tr>\n",
       "      <th>1</th>\n",
       "      <td>많이 증가</td>\n",
       "      <td>215</td>\n",
       "    </tr>\n",
       "    <tr>\n",
       "      <th>2</th>\n",
       "      <td>변화없음</td>\n",
       "      <td>329</td>\n",
       "    </tr>\n",
       "    <tr>\n",
       "      <th>3</th>\n",
       "      <td>조금 감소</td>\n",
       "      <td>70</td>\n",
       "    </tr>\n",
       "    <tr>\n",
       "      <th>4</th>\n",
       "      <td>조금 증가</td>\n",
       "      <td>361</td>\n",
       "    </tr>\n",
       "    <tr>\n",
       "      <th>5</th>\n",
       "      <td>해당없음</td>\n",
       "      <td>12</td>\n",
       "    </tr>\n",
       "  </tbody>\n",
       "</table>\n",
       "</div>"
      ],
      "text/plain": [
       "    직접요리    0\n",
       "0  많이 감소   13\n",
       "1  많이 증가  215\n",
       "2   변화없음  329\n",
       "3  조금 감소   70\n",
       "4  조금 증가  361\n",
       "5   해당없음   12"
      ]
     },
     "execution_count": 10,
     "metadata": {},
     "output_type": "execute_result"
    }
   ],
   "source": [
    "c=df.groupby('직접요리').size()\n",
    "c\n",
    "c1=pd.DataFrame(c)\n",
    "c1.to_csv('직접요리임')\n",
    "cc=pd.read_csv('직접요리임')\n",
    "cc"
   ]
  },
  {
   "cell_type": "code",
   "execution_count": 14,
   "metadata": {},
   "outputs": [
    {
     "data": {
      "image/png": "[encoded data removed]",
      "text/plain": [
       "<Figure size 360x360 with 1 Axes>"
      ]
     },
     "metadata": {
      "needs_background": "light"
     },
     "output_type": "display_data"
    }
   ],
   "source": [
    "plt.figure(figsize=(5,5)) \n",
    "sns.barplot(x = df[\"직접요리\"].value_counts().index,\n",
    "            y = df[\"직접요리\"].value_counts().values,palette=\"YlOrBr\") \n",
    "plt.xticks(rotation=60) \n",
    "plt.title(\"직접요리 변화율\",fontweight=\"bold\") \n",
    "plt.show()"
   ]
  },
  {
   "cell_type": "code",
   "execution_count": 17,
   "metadata": {},
   "outputs": [
    {
     "data": {
      "image/png": "[encoded data removed]",
      "text/plain": [
       "<Figure size 360x360 with 1 Axes>"
      ]
     },
     "metadata": {
      "needs_background": "light"
     },
     "output_type": "display_data"
    }
   ],
   "source": [
    "plt.figure(figsize=(5,5)) \n",
    "sns.barplot(x = df[\"외식\"].value_counts().index,\n",
    "            y = df[\"외식\"].value_counts().values,palette=\"Blues\") \n",
    "plt.xticks(rotation=60) \n",
    "plt.title(\"외식 변화율\",fontweight=\"bold\") \n",
    "plt.show()"
   ]
  },
  {
   "cell_type": "code",
   "execution_count": 18,
   "metadata": {},
   "outputs": [
    {
     "data": {
      "image/png": "[encoded data removed]",
      "text/plain": [
       "<Figure size 360x360 with 1 Axes>"
      ]
     },
     "metadata": {
      "needs_background": "light"
     },
     "output_type": "display_data"
    }
   ],
   "source": [
    "plt.figure(figsize=(5,5)) \n",
    "sns.barplot(x = df[\"배달음식\"].value_counts().index,\n",
    "            y = df[\"배달음식\"].value_counts().values,palette=\"pink\") \n",
    "plt.xticks(rotation=60) \n",
    "plt.title(\"배달음식 변화율\",fontweight=\"bold\") \n",
    "plt.show()"
   ]
  },
  {
   "cell_type": "code",
   "execution_count": null,
   "metadata": {},
   "outputs": [],
   "source": []
  }
 ],
 "metadata": {
  "kernelspec": {
   "display_name": "Python 3 (ipykernel)",
   "language": "python",
   "name": "python3"
  },
  "language_info": {
   "codemirror_mode": {
    "name": "ipython",
    "version": 3
   },
   "file_extension": ".py",
   "mimetype": "text/x-python",
   "name": "python",
   "nbconvert_exporter": "python",
   "pygments_lexer": "ipython3",
   "version": "3.11.7"
  }
 },
 "nbformat": 4,
 "nbformat_minor": 4
}
