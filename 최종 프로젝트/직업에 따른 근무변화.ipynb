{
 "cells": [
  {
   "cell_type": "code",
   "execution_count": 34,
   "metadata": {},
   "outputs": [],
   "source": [
    "import pandas as pd\n",
    "import numpy as np\n",
    "\n",
    "import matplotlib.pyplot as plt \n",
    "import matplotlib\n",
    "from wordcloud import WordCloud\n",
    "\n",
    "import plotly \n",
    "import plotly.express as px\n",
    "import plotly.graph_objs as go\n",
    "import plotly.offline as py\n",
    "from plotly.offline import iplot\n",
    "from plotly.subplots import make_subplots\n",
    "import plotly.figure_factory as ff\n",
    "import seaborn as sns\n",
    "import missingno as msno\n",
    "import warnings \n",
    "warnings.filterwarnings(\"ignore\") "
   ]
  },
  {
   "cell_type": "code",
   "execution_count": 35,
   "metadata": {},
   "outputs": [
    {
     "data": {
      "text/html": [
       "<div>\n",
       "<style scoped>\n",
       "    .dataframe tbody tr th:only-of-type {\n",
       "        vertical-align: middle;\n",
       "    }\n",
       "\n",
       "    .dataframe tbody tr th {\n",
       "        vertical-align: top;\n",
       "    }\n",
       "\n",
       "    .dataframe thead th {\n",
       "        text-align: right;\n",
       "    }\n",
       "</style>\n",
       "<table border=\"1\" class=\"dataframe\">\n",
       "  <thead>\n",
       "    <tr style=\"text-align: right;\">\n",
       "      <th></th>\n",
       "      <th>성별</th>\n",
       "      <th>직업</th>\n",
       "      <th>수입노동</th>\n",
       "      <th>유연근무</th>\n",
       "      <th>재택근무</th>\n",
       "    </tr>\n",
       "  </thead>\n",
       "  <tbody>\n",
       "    <tr>\n",
       "      <th>0</th>\n",
       "      <td>남성</td>\n",
       "      <td>농축수산/광업</td>\n",
       "      <td>많이 증가</td>\n",
       "      <td>조금 증가</td>\n",
       "      <td>많이 증가</td>\n",
       "    </tr>\n",
       "    <tr>\n",
       "      <th>1</th>\n",
       "      <td>남성</td>\n",
       "      <td>사무직</td>\n",
       "      <td>많이 감소</td>\n",
       "      <td>조금 감소</td>\n",
       "      <td>조금 감소</td>\n",
       "    </tr>\n",
       "    <tr>\n",
       "      <th>2</th>\n",
       "      <td>여성</td>\n",
       "      <td>전업주부</td>\n",
       "      <td>많이 감소</td>\n",
       "      <td>많이 감소</td>\n",
       "      <td>많이 감소</td>\n",
       "    </tr>\n",
       "    <tr>\n",
       "      <th>3</th>\n",
       "      <td>남성</td>\n",
       "      <td>사무직</td>\n",
       "      <td>조금 감소</td>\n",
       "      <td>해당없음</td>\n",
       "      <td>해당없음</td>\n",
       "    </tr>\n",
       "    <tr>\n",
       "      <th>4</th>\n",
       "      <td>남성</td>\n",
       "      <td>경영관리직</td>\n",
       "      <td>변화없음</td>\n",
       "      <td>변화없음</td>\n",
       "      <td>변화없음</td>\n",
       "    </tr>\n",
       "    <tr>\n",
       "      <th>...</th>\n",
       "      <td>...</td>\n",
       "      <td>...</td>\n",
       "      <td>...</td>\n",
       "      <td>...</td>\n",
       "      <td>...</td>\n",
       "    </tr>\n",
       "    <tr>\n",
       "      <th>995</th>\n",
       "      <td>남성</td>\n",
       "      <td>경영관리직</td>\n",
       "      <td>조금 감소</td>\n",
       "      <td>변화없음</td>\n",
       "      <td>조금 증가</td>\n",
       "    </tr>\n",
       "    <tr>\n",
       "      <th>996</th>\n",
       "      <td>여성</td>\n",
       "      <td>사무직</td>\n",
       "      <td>조금 감소</td>\n",
       "      <td>조금 감소</td>\n",
       "      <td>조금 증가</td>\n",
       "    </tr>\n",
       "    <tr>\n",
       "      <th>997</th>\n",
       "      <td>여성</td>\n",
       "      <td>무직/퇴직</td>\n",
       "      <td>변화없음</td>\n",
       "      <td>변화없음</td>\n",
       "      <td>변화없음</td>\n",
       "    </tr>\n",
       "    <tr>\n",
       "      <th>998</th>\n",
       "      <td>여성</td>\n",
       "      <td>무직/퇴직</td>\n",
       "      <td>해당없음</td>\n",
       "      <td>NaN</td>\n",
       "      <td>NaN</td>\n",
       "    </tr>\n",
       "    <tr>\n",
       "      <th>999</th>\n",
       "      <td>여성</td>\n",
       "      <td>사무직</td>\n",
       "      <td>조금 증가</td>\n",
       "      <td>조금 증가</td>\n",
       "      <td>조금 증가</td>\n",
       "    </tr>\n",
       "  </tbody>\n",
       "</table>\n",
       "<p>1000 rows × 5 columns</p>\n",
       "</div>"
      ],
      "text/plain": [
       "     성별       직업   수입노동   유연근무   재택근무\n",
       "0    남성  농축수산/광업  많이 증가  조금 증가  많이 증가\n",
       "1    남성      사무직  많이 감소  조금 감소  조금 감소\n",
       "2    여성     전업주부  많이 감소  많이 감소  많이 감소\n",
       "3    남성      사무직  조금 감소   해당없음   해당없음\n",
       "4    남성    경영관리직   변화없음   변화없음   변화없음\n",
       "..   ..      ...    ...    ...    ...\n",
       "995  남성    경영관리직  조금 감소   변화없음  조금 증가\n",
       "996  여성      사무직  조금 감소  조금 감소  조금 증가\n",
       "997  여성    무직/퇴직   변화없음   변화없음   변화없음\n",
       "998  여성    무직/퇴직   해당없음    NaN    NaN\n",
       "999  여성      사무직  조금 증가  조금 증가  조금 증가\n",
       "\n",
       "[1000 rows x 5 columns]"
      ]
     },
     "execution_count": 35,
     "metadata": {},
     "output_type": "execute_result"
    }
   ],
   "source": [
    "df= pd.read_csv('성별, 직업에 따른.csv')\n",
    "df"
   ]
  },
  {
   "cell_type": "code",
   "execution_count": 24,
   "metadata": {},
   "outputs": [
    {
     "data": {
      "text/plain": [
       "성별       0\n",
       "직업       0\n",
       "수입노동     0\n",
       "유연근무    82\n",
       "재택근무    82\n",
       "dtype: int64"
      ]
     },
     "execution_count": 24,
     "metadata": {},
     "output_type": "execute_result"
    }
   ],
   "source": [
    "df.isnull().sum()"
   ]
  },
  {
   "cell_type": "code",
   "execution_count": 25,
   "metadata": {},
   "outputs": [
    {
     "data": {
      "text/plain": [
       "변화없음     539\n",
       "해당없음     179\n",
       "조금 증가    135\n",
       "조금 감소     63\n",
       "많이 감소     43\n",
       "많이 증가     41\n",
       "Name: 유연근무, dtype: int64"
      ]
     },
     "execution_count": 25,
     "metadata": {},
     "output_type": "execute_result"
    }
   ],
   "source": [
    "df['유연근무'] = df['유연근무'].fillna('변화없음')\n",
    "df['유연근무'].value_counts()"
   ]
  },
  {
   "cell_type": "code",
   "execution_count": 26,
   "metadata": {},
   "outputs": [
    {
     "data": {
      "text/plain": [
       "변화없음     509\n",
       "해당없음     247\n",
       "조금 증가    141\n",
       "많이 증가     73\n",
       "조금 감소     18\n",
       "많이 감소     12\n",
       "Name: 재택근무, dtype: int64"
      ]
     },
     "execution_count": 26,
     "metadata": {},
     "output_type": "execute_result"
    }
   ],
   "source": [
    "df['재택근무'] = df['재택근무'].fillna('변화없음')\n",
    "df['재택근무'].value_counts()"
   ]
  },
  {
   "cell_type": "code",
   "execution_count": 27,
   "metadata": {},
   "outputs": [
    {
     "data": {
      "text/plain": [
       "성별      0\n",
       "직업      0\n",
       "수입노동    0\n",
       "유연근무    0\n",
       "재택근무    0\n",
       "dtype: int64"
      ]
     },
     "execution_count": 27,
     "metadata": {},
     "output_type": "execute_result"
    }
   ],
   "source": [
    "df.isnull().sum()"
   ]
  },
  {
   "cell_type": "code",
   "execution_count": 28,
   "metadata": {},
   "outputs": [
    {
     "data": {
      "text/plain": [
       "사무직        353\n",
       "전업주부       162\n",
       "무직/퇴직       89\n",
       "전문직         67\n",
       "자영/판매업      60\n",
       "학생          52\n",
       "기능직         44\n",
       "기타          41\n",
       "서비스직        37\n",
       "노무직         30\n",
       "기술전문직       29\n",
       "경영관리직       28\n",
       "농축수산/광업      8\n",
       "Name: 직업, dtype: int64"
      ]
     },
     "execution_count": 28,
     "metadata": {},
     "output_type": "execute_result"
    }
   ],
   "source": [
    "df['직업'].value_counts()"
   ]
  },
  {
   "cell_type": "code",
   "execution_count": 43,
   "metadata": {},
   "outputs": [
    {
     "data": {
      "text/plain": [
       "직업\n",
       "경영관리직       28\n",
       "기능직         44\n",
       "기술전문직       29\n",
       "기타          41\n",
       "노무직         30\n",
       "농축수산/광업      8\n",
       "무직/퇴직       89\n",
       "사무직        353\n",
       "서비스직        37\n",
       "자영/판매업      60\n",
       "전문직         67\n",
       "전업주부       162\n",
       "학생          52\n",
       "dtype: int64"
      ]
     },
     "execution_count": 43,
     "metadata": {},
     "output_type": "execute_result"
    }
   ],
   "source": [
    "df.groupby('직업').size()"
   ]
  },
  {
   "cell_type": "code",
   "execution_count": 48,
   "metadata": {},
   "outputs": [
    {
     "data": {
      "image/png": "[encoded data removed]",
      "text/plain": [
       "<Figure size 504x504 with 1 Axes>"
      ]
     },
     "metadata": {
      "needs_background": "light"
     },
     "output_type": "display_data"
    }
   ],
   "source": [
    "plt.figure(figsize=(7,7)) \n",
    "sns.barplot(x = df[\"직업\"].value_counts().index,\n",
    "            y = df[\"직업\"].value_counts().values,palette=\"cividis\") \n",
    "plt.xticks(rotation=60) \n",
    "plt.title(\"응답자의 직업\",fontweight=\"bold\") \n",
    "plt.rcParams[\"font.family\"]=\"Malgun Gothic\"\n",
    "plt.show()"
   ]
  },
  {
   "cell_type": "code",
   "execution_count": 58,
   "metadata": {},
   "outputs": [],
   "source": [
    "a=df.groupby(['직업','재택근무']).size()"
   ]
  },
  {
   "cell_type": "code",
   "execution_count": 60,
   "metadata": {},
   "outputs": [
    {
     "data": {
      "text/plain": [
       "직업     재택근무 \n",
       "경영관리직  많이 증가     3\n",
       "       변화없음     17\n",
       "       조금 증가     4\n",
       "       해당없음      4\n",
       "기능직    많이 감소     1\n",
       "                ..\n",
       "전업주부   해당없음     53\n",
       "학생     많이 증가     7\n",
       "       변화없음     19\n",
       "       조금 증가     5\n",
       "       해당없음     10\n",
       "Length: 67, dtype: int64"
      ]
     },
     "execution_count": 60,
     "metadata": {},
     "output_type": "execute_result"
    }
   ],
   "source": [
    "a"
   ]
  },
  {
   "cell_type": "code",
   "execution_count": 61,
   "metadata": {},
   "outputs": [
    {
     "data": {
      "text/html": [
       "<div>\n",
       "<style scoped>\n",
       "    .dataframe tbody tr th:only-of-type {\n",
       "        vertical-align: middle;\n",
       "    }\n",
       "\n",
       "    .dataframe tbody tr th {\n",
       "        vertical-align: top;\n",
       "    }\n",
       "\n",
       "    .dataframe thead th {\n",
       "        text-align: right;\n",
       "    }\n",
       "</style>\n",
       "<table border=\"1\" class=\"dataframe\">\n",
       "  <thead>\n",
       "    <tr style=\"text-align: right;\">\n",
       "      <th></th>\n",
       "      <th>직업</th>\n",
       "      <th>재택근무</th>\n",
       "      <th>0</th>\n",
       "    </tr>\n",
       "  </thead>\n",
       "  <tbody>\n",
       "    <tr>\n",
       "      <th>0</th>\n",
       "      <td>경영관리직</td>\n",
       "      <td>많이 증가</td>\n",
       "      <td>3</td>\n",
       "    </tr>\n",
       "    <tr>\n",
       "      <th>1</th>\n",
       "      <td>경영관리직</td>\n",
       "      <td>변화없음</td>\n",
       "      <td>17</td>\n",
       "    </tr>\n",
       "    <tr>\n",
       "      <th>2</th>\n",
       "      <td>경영관리직</td>\n",
       "      <td>조금 증가</td>\n",
       "      <td>4</td>\n",
       "    </tr>\n",
       "    <tr>\n",
       "      <th>3</th>\n",
       "      <td>경영관리직</td>\n",
       "      <td>해당없음</td>\n",
       "      <td>4</td>\n",
       "    </tr>\n",
       "    <tr>\n",
       "      <th>4</th>\n",
       "      <td>기능직</td>\n",
       "      <td>많이 감소</td>\n",
       "      <td>1</td>\n",
       "    </tr>\n",
       "    <tr>\n",
       "      <th>...</th>\n",
       "      <td>...</td>\n",
       "      <td>...</td>\n",
       "      <td>...</td>\n",
       "    </tr>\n",
       "    <tr>\n",
       "      <th>62</th>\n",
       "      <td>전업주부</td>\n",
       "      <td>해당없음</td>\n",
       "      <td>53</td>\n",
       "    </tr>\n",
       "    <tr>\n",
       "      <th>63</th>\n",
       "      <td>학생</td>\n",
       "      <td>많이 증가</td>\n",
       "      <td>7</td>\n",
       "    </tr>\n",
       "    <tr>\n",
       "      <th>64</th>\n",
       "      <td>학생</td>\n",
       "      <td>변화없음</td>\n",
       "      <td>19</td>\n",
       "    </tr>\n",
       "    <tr>\n",
       "      <th>65</th>\n",
       "      <td>학생</td>\n",
       "      <td>조금 증가</td>\n",
       "      <td>5</td>\n",
       "    </tr>\n",
       "    <tr>\n",
       "      <th>66</th>\n",
       "      <td>학생</td>\n",
       "      <td>해당없음</td>\n",
       "      <td>10</td>\n",
       "    </tr>\n",
       "  </tbody>\n",
       "</table>\n",
       "<p>67 rows × 3 columns</p>\n",
       "</div>"
      ],
      "text/plain": [
       "       직업   재택근무   0\n",
       "0   경영관리직  많이 증가   3\n",
       "1   경영관리직   변화없음  17\n",
       "2   경영관리직  조금 증가   4\n",
       "3   경영관리직   해당없음   4\n",
       "4     기능직  많이 감소   1\n",
       "..    ...    ...  ..\n",
       "62   전업주부   해당없음  53\n",
       "63     학생  많이 증가   7\n",
       "64     학생   변화없음  19\n",
       "65     학생  조금 증가   5\n",
       "66     학생   해당없음  10\n",
       "\n",
       "[67 rows x 3 columns]"
      ]
     },
     "execution_count": 61,
     "metadata": {},
     "output_type": "execute_result"
    }
   ],
   "source": [
    "job=pd.DataFrame(a)\n",
    "job.to_csv('직업재택')\n",
    "job1=pd.read_csv('직업재택')\n",
    "job1"
   ]
  },
  {
   "cell_type": "code",
   "execution_count": 64,
   "metadata": {},
   "outputs": [
    {
     "data": {
      "text/plain": [
       "Text(0.5, 1.0, '직업에 따른 재택근무의 변화')"
      ]
     },
     "execution_count": 64,
     "metadata": {},
     "output_type": "execute_result"
    },
    {
     "data": {
      "image/png": "[encoded data removed]",
      "text/plain": [
       "<Figure size 1080x1080 with 1 Axes>"
      ]
     },
     "metadata": {
      "needs_background": "light"
     },
     "output_type": "display_data"
    }
   ],
   "source": [
    "plt.figure(figsize=(15,15)) \n",
    "sns.barplot(x='재택근무', y='0',hue='직업',data=job1)\n",
    "plt.title(\"직업에 따른 재택근무의 변화\")"
   ]
  },
  {
   "cell_type": "code",
   "execution_count": 67,
   "metadata": {},
   "outputs": [
    {
     "data": {
      "text/plain": [
       "Text(0.5, 1.0, '직업에 따른 재택근무의 변화')"
      ]
     },
     "execution_count": 67,
     "metadata": {},
     "output_type": "execute_result"
    },
    {
     "data": {
      "image/png": "[encoded data removed]",
      "text/plain": [
       "<Figure size 1080x1080 with 1 Axes>"
      ]
     },
     "metadata": {
      "needs_background": "light"
     },
     "output_type": "display_data"
    }
   ],
   "source": [
    "plt.figure(figsize=(15,15)) \n",
    "sns.barplot(x='직업', y='0',hue='재택근무',data=job1)\n",
    "plt.title(\"직업에 따른 재택근무의 변화\")"
   ]
  },
  {
   "cell_type": "code",
   "execution_count": 68,
   "metadata": {},
   "outputs": [],
   "source": [
    "b=df.groupby(['직업','유연근무']).size()"
   ]
  },
  {
   "cell_type": "code",
   "execution_count": 69,
   "metadata": {},
   "outputs": [
    {
     "data": {
      "text/html": [
       "<div>\n",
       "<style scoped>\n",
       "    .dataframe tbody tr th:only-of-type {\n",
       "        vertical-align: middle;\n",
       "    }\n",
       "\n",
       "    .dataframe tbody tr th {\n",
       "        vertical-align: top;\n",
       "    }\n",
       "\n",
       "    .dataframe thead th {\n",
       "        text-align: right;\n",
       "    }\n",
       "</style>\n",
       "<table border=\"1\" class=\"dataframe\">\n",
       "  <thead>\n",
       "    <tr style=\"text-align: right;\">\n",
       "      <th></th>\n",
       "      <th>직업</th>\n",
       "      <th>유연근무</th>\n",
       "      <th>0</th>\n",
       "    </tr>\n",
       "  </thead>\n",
       "  <tbody>\n",
       "    <tr>\n",
       "      <th>0</th>\n",
       "      <td>경영관리직</td>\n",
       "      <td>많이 감소</td>\n",
       "      <td>1</td>\n",
       "    </tr>\n",
       "    <tr>\n",
       "      <th>1</th>\n",
       "      <td>경영관리직</td>\n",
       "      <td>변화없음</td>\n",
       "      <td>17</td>\n",
       "    </tr>\n",
       "    <tr>\n",
       "      <th>2</th>\n",
       "      <td>경영관리직</td>\n",
       "      <td>조금 증가</td>\n",
       "      <td>6</td>\n",
       "    </tr>\n",
       "    <tr>\n",
       "      <th>3</th>\n",
       "      <td>경영관리직</td>\n",
       "      <td>해당없음</td>\n",
       "      <td>4</td>\n",
       "    </tr>\n",
       "    <tr>\n",
       "      <th>4</th>\n",
       "      <td>기능직</td>\n",
       "      <td>많이 감소</td>\n",
       "      <td>1</td>\n",
       "    </tr>\n",
       "    <tr>\n",
       "      <th>...</th>\n",
       "      <td>...</td>\n",
       "      <td>...</td>\n",
       "      <td>...</td>\n",
       "    </tr>\n",
       "    <tr>\n",
       "      <th>65</th>\n",
       "      <td>학생</td>\n",
       "      <td>많이 증가</td>\n",
       "      <td>5</td>\n",
       "    </tr>\n",
       "    <tr>\n",
       "      <th>66</th>\n",
       "      <td>학생</td>\n",
       "      <td>변화없음</td>\n",
       "      <td>17</td>\n",
       "    </tr>\n",
       "    <tr>\n",
       "      <th>67</th>\n",
       "      <td>학생</td>\n",
       "      <td>조금 감소</td>\n",
       "      <td>4</td>\n",
       "    </tr>\n",
       "    <tr>\n",
       "      <th>68</th>\n",
       "      <td>학생</td>\n",
       "      <td>조금 증가</td>\n",
       "      <td>5</td>\n",
       "    </tr>\n",
       "    <tr>\n",
       "      <th>69</th>\n",
       "      <td>학생</td>\n",
       "      <td>해당없음</td>\n",
       "      <td>10</td>\n",
       "    </tr>\n",
       "  </tbody>\n",
       "</table>\n",
       "<p>70 rows × 3 columns</p>\n",
       "</div>"
      ],
      "text/plain": [
       "       직업   유연근무   0\n",
       "0   경영관리직  많이 감소   1\n",
       "1   경영관리직   변화없음  17\n",
       "2   경영관리직  조금 증가   6\n",
       "3   경영관리직   해당없음   4\n",
       "4     기능직  많이 감소   1\n",
       "..    ...    ...  ..\n",
       "65     학생  많이 증가   5\n",
       "66     학생   변화없음  17\n",
       "67     학생  조금 감소   4\n",
       "68     학생  조금 증가   5\n",
       "69     학생   해당없음  10\n",
       "\n",
       "[70 rows x 3 columns]"
      ]
     },
     "execution_count": 69,
     "metadata": {},
     "output_type": "execute_result"
    }
   ],
   "source": [
    "jo=pd.DataFrame(b)\n",
    "jo.to_csv('직업유연')\n",
    "job2=pd.read_csv('직업유연')\n",
    "job2"
   ]
  },
  {
   "cell_type": "code",
   "execution_count": 70,
   "metadata": {},
   "outputs": [
    {
     "data": {
      "text/plain": [
       "Text(0.5, 1.0, '직업에 따른 유연근무의 변화')"
      ]
     },
     "execution_count": 70,
     "metadata": {},
     "output_type": "execute_result"
    },
    {
     "data": {
      "image/png": "[encoded data removed]",
      "text/plain": [
       "<Figure size 1080x1080 with 1 Axes>"
      ]
     },
     "metadata": {
      "needs_background": "light"
     },
     "output_type": "display_data"
    }
   ],
   "source": [
    "plt.figure(figsize=(15,15)) \n",
    "sns.barplot(x='직업', y='0',hue='유연근무',data=job2)\n",
    "plt.title(\"직업에 따른 유연근무의 변화\")"
   ]
  },
  {
   "cell_type": "code",
   "execution_count": 71,
   "metadata": {},
   "outputs": [],
   "source": [
    "c=df.groupby(['직업','수입노동']).size()"
   ]
  },
  {
   "cell_type": "code",
   "execution_count": 72,
   "metadata": {},
   "outputs": [
    {
     "data": {
      "text/html": [
       "<div>\n",
       "<style scoped>\n",
       "    .dataframe tbody tr th:only-of-type {\n",
       "        vertical-align: middle;\n",
       "    }\n",
       "\n",
       "    .dataframe tbody tr th {\n",
       "        vertical-align: top;\n",
       "    }\n",
       "\n",
       "    .dataframe thead th {\n",
       "        text-align: right;\n",
       "    }\n",
       "</style>\n",
       "<table border=\"1\" class=\"dataframe\">\n",
       "  <thead>\n",
       "    <tr style=\"text-align: right;\">\n",
       "      <th></th>\n",
       "      <th>직업</th>\n",
       "      <th>수입노동</th>\n",
       "      <th>0</th>\n",
       "    </tr>\n",
       "  </thead>\n",
       "  <tbody>\n",
       "    <tr>\n",
       "      <th>0</th>\n",
       "      <td>경영관리직</td>\n",
       "      <td>많이 감소</td>\n",
       "      <td>3</td>\n",
       "    </tr>\n",
       "    <tr>\n",
       "      <th>1</th>\n",
       "      <td>경영관리직</td>\n",
       "      <td>변화없음</td>\n",
       "      <td>16</td>\n",
       "    </tr>\n",
       "    <tr>\n",
       "      <th>2</th>\n",
       "      <td>경영관리직</td>\n",
       "      <td>조금 감소</td>\n",
       "      <td>8</td>\n",
       "    </tr>\n",
       "    <tr>\n",
       "      <th>3</th>\n",
       "      <td>경영관리직</td>\n",
       "      <td>조금 증가</td>\n",
       "      <td>1</td>\n",
       "    </tr>\n",
       "    <tr>\n",
       "      <th>4</th>\n",
       "      <td>기능직</td>\n",
       "      <td>많이 감소</td>\n",
       "      <td>6</td>\n",
       "    </tr>\n",
       "    <tr>\n",
       "      <th>...</th>\n",
       "      <td>...</td>\n",
       "      <td>...</td>\n",
       "      <td>...</td>\n",
       "    </tr>\n",
       "    <tr>\n",
       "      <th>58</th>\n",
       "      <td>학생</td>\n",
       "      <td>많이 증가</td>\n",
       "      <td>2</td>\n",
       "    </tr>\n",
       "    <tr>\n",
       "      <th>59</th>\n",
       "      <td>학생</td>\n",
       "      <td>변화없음</td>\n",
       "      <td>17</td>\n",
       "    </tr>\n",
       "    <tr>\n",
       "      <th>60</th>\n",
       "      <td>학생</td>\n",
       "      <td>조금 감소</td>\n",
       "      <td>13</td>\n",
       "    </tr>\n",
       "    <tr>\n",
       "      <th>61</th>\n",
       "      <td>학생</td>\n",
       "      <td>조금 증가</td>\n",
       "      <td>3</td>\n",
       "    </tr>\n",
       "    <tr>\n",
       "      <th>62</th>\n",
       "      <td>학생</td>\n",
       "      <td>해당없음</td>\n",
       "      <td>11</td>\n",
       "    </tr>\n",
       "  </tbody>\n",
       "</table>\n",
       "<p>63 rows × 3 columns</p>\n",
       "</div>"
      ],
      "text/plain": [
       "       직업   수입노동   0\n",
       "0   경영관리직  많이 감소   3\n",
       "1   경영관리직   변화없음  16\n",
       "2   경영관리직  조금 감소   8\n",
       "3   경영관리직  조금 증가   1\n",
       "4     기능직  많이 감소   6\n",
       "..    ...    ...  ..\n",
       "58     학생  많이 증가   2\n",
       "59     학생   변화없음  17\n",
       "60     학생  조금 감소  13\n",
       "61     학생  조금 증가   3\n",
       "62     학생   해당없음  11\n",
       "\n",
       "[63 rows x 3 columns]"
      ]
     },
     "execution_count": 72,
     "metadata": {},
     "output_type": "execute_result"
    }
   ],
   "source": [
    "j=pd.DataFrame(c)\n",
    "j.to_csv('직업수입')\n",
    "job3=pd.read_csv('직업수입')\n",
    "job3"
   ]
  },
  {
   "cell_type": "code",
   "execution_count": 73,
   "metadata": {},
   "outputs": [
    {
     "data": {
      "text/plain": [
       "Text(0.5, 1.0, '직업에 따른 수입노동의 변화')"
      ]
     },
     "execution_count": 73,
     "metadata": {},
     "output_type": "execute_result"
    },
    {
     "data": {
      "image/png": "[encoded data removed]",
      "text/plain": [
       "<Figure size 1080x1080 with 1 Axes>"
      ]
     },
     "metadata": {
      "needs_background": "light"
     },
     "output_type": "display_data"
    }
   ],
   "source": [
    "plt.figure(figsize=(15,15)) \n",
    "sns.barplot(x='직업', y='0',hue='수입노동',data=job3)\n",
    "plt.title(\"직업에 따른 수입노동의 변화\")"
   ]
  },
  {
   "cell_type": "code",
   "execution_count": null,
   "metadata": {},
   "outputs": [],
   "source": []
  }
 ],
 "metadata": {
  "kernelspec": {
   "display_name": "Python 3 (ipykernel)",
   "language": "python",
   "name": "python3"
  },
  "language_info": {
   "codemirror_mode": {
    "name": "ipython",
    "version": 3
   },
   "file_extension": ".py",
   "mimetype": "text/x-python",
   "name": "python",
   "nbconvert_exporter": "python",
   "pygments_lexer": "ipython3",
   "version": "3.9.7"
  }
 },
 "nbformat": 4,
 "nbformat_minor": 4
}
