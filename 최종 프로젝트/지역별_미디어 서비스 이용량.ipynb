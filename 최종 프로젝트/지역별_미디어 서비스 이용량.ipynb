{
 "cells": [
  {
   "cell_type": "code",
   "execution_count": 1,
   "id": "ea821bfe",
   "metadata": {},
   "outputs": [],
   "source": [
    "%matplotlib inline\n",
    "import pandas as pd\n",
    "import seaborn as sns\n",
    "import matplotlib.pyplot as plt\n",
    "import numpy as np\n",
    "import pickle\n",
    "import matplotlib.font_manager as fm"
   ]
  },
  {
   "cell_type": "code",
   "execution_count": 2,
   "id": "9c27ab29",
   "metadata": {},
   "outputs": [
    {
     "name": "stdout",
     "output_type": "stream",
     "text": [
      "['NanumGothic']\n"
     ]
    }
   ],
   "source": [
    "plt.rc('font' , family = 'NanumGothic')\n",
    "print(plt.rcParams['font.family'])"
   ]
  },
  {
   "cell_type": "code",
   "execution_count": 3,
   "id": "e1afb048",
   "metadata": {},
   "outputs": [],
   "source": [
    "data = pd.read_excel('C:/Users/i5-8250U/Desktop/빅숙타/코로나19 이후 국민의 일상 변화 원본 데이터.xlsx')"
   ]
  },
  {
   "cell_type": "code",
   "execution_count": 4,
   "id": "df5843a6",
   "metadata": {},
   "outputs": [
    {
     "data": {
      "text/plain": [
       "9     257\n",
       "1     196\n",
       "2      66\n",
       "16     64\n",
       "4      60\n",
       "15     49\n",
       "3      47\n",
       "12     40\n",
       "14     32\n",
       "13     32\n",
       "10     31\n",
       "6      31\n",
       "11     31\n",
       "5      27\n",
       "7      23\n",
       "17      9\n",
       "8       5\n",
       "Name: SQ1, dtype: int64"
      ]
     },
     "execution_count": 4,
     "metadata": {},
     "output_type": "execute_result"
    }
   ],
   "source": [
    "data['SQ1'].value_counts()"
   ]
  },
  {
   "cell_type": "code",
   "execution_count": 5,
   "id": "442f1932",
   "metadata": {},
   "outputs": [
    {
     "data": {
      "text/plain": [
       "3    418\n",
       "4    324\n",
       "5    121\n",
       "2     58\n",
       "6     45\n",
       "1     34\n",
       "Name: Q3_1, dtype: int64"
      ]
     },
     "execution_count": 5,
     "metadata": {},
     "output_type": "execute_result"
    }
   ],
   "source": [
    "data['Q3_1'].value_counts()"
   ]
  },
  {
   "cell_type": "code",
   "execution_count": 6,
   "id": "347bda3f",
   "metadata": {},
   "outputs": [
    {
     "data": {
      "text/plain": [
       "4    359\n",
       "3    330\n",
       "5    185\n",
       "6     59\n",
       "2     45\n",
       "1     22\n",
       "Name: Q3_2, dtype: int64"
      ]
     },
     "execution_count": 6,
     "metadata": {},
     "output_type": "execute_result"
    }
   ],
   "source": [
    "data['Q3_2'].value_counts()"
   ]
  },
  {
   "cell_type": "code",
   "execution_count": 7,
   "id": "4cfd9d98",
   "metadata": {},
   "outputs": [
    {
     "data": {
      "text/plain": [
       "4    282\n",
       "3    241\n",
       "6    238\n",
       "5    217\n",
       "2     18\n",
       "1      4\n",
       "Name: Q3_3, dtype: int64"
      ]
     },
     "execution_count": 7,
     "metadata": {},
     "output_type": "execute_result"
    }
   ],
   "source": [
    "data['Q3_3'].value_counts()"
   ]
  },
  {
   "cell_type": "code",
   "execution_count": 8,
   "id": "88ef822d",
   "metadata": {},
   "outputs": [
    {
     "data": {
      "text/plain": [
       "4    301\n",
       "3    296\n",
       "5    233\n",
       "6    145\n",
       "2     17\n",
       "1      8\n",
       "Name: Q3_4, dtype: int64"
      ]
     },
     "execution_count": 8,
     "metadata": {},
     "output_type": "execute_result"
    }
   ],
   "source": [
    "data['Q3_4'].value_counts()"
   ]
  },
  {
   "cell_type": "code",
   "execution_count": 9,
   "id": "40ea612b",
   "metadata": {},
   "outputs": [
    {
     "data": {
      "text/plain": [
       "3    410\n",
       "4    348\n",
       "5    189\n",
       "2     25\n",
       "6     22\n",
       "1      6\n",
       "Name: Q3_5, dtype: int64"
      ]
     },
     "execution_count": 9,
     "metadata": {},
     "output_type": "execute_result"
    }
   ],
   "source": [
    "data['Q3_5'].value_counts()"
   ]
  },
  {
   "cell_type": "code",
   "execution_count": 10,
   "id": "60d76c8d",
   "metadata": {},
   "outputs": [
    {
     "data": {
      "text/plain": [
       "3    414\n",
       "4    236\n",
       "6    183\n",
       "5    121\n",
       "2     28\n",
       "1     18\n",
       "Name: Q3_6, dtype: int64"
      ]
     },
     "execution_count": 10,
     "metadata": {},
     "output_type": "execute_result"
    }
   ],
   "source": [
    "data['Q3_6'].value_counts()"
   ]
  },
  {
   "cell_type": "code",
   "execution_count": 11,
   "id": "b3929060",
   "metadata": {},
   "outputs": [
    {
     "data": {
      "text/plain": [
       "4    402\n",
       "3    342\n",
       "5    230\n",
       "2     16\n",
       "6      8\n",
       "1      2\n",
       "Name: Q3_7, dtype: int64"
      ]
     },
     "execution_count": 11,
     "metadata": {},
     "output_type": "execute_result"
    }
   ],
   "source": [
    "data['Q3_7'].value_counts()"
   ]
  },
  {
   "cell_type": "code",
   "execution_count": 12,
   "id": "698c2366",
   "metadata": {},
   "outputs": [
    {
     "data": {
      "text/plain": [
       "SQ1  Q3_1\n",
       "1    1        8\n",
       "     2       10\n",
       "     3       74\n",
       "     4       73\n",
       "     5       26\n",
       "             ..\n",
       "16   5        7\n",
       "     6        4\n",
       "17   3        5\n",
       "     4        3\n",
       "     6        1\n",
       "Length: 87, dtype: int64"
      ]
     },
     "execution_count": 12,
     "metadata": {},
     "output_type": "execute_result"
    }
   ],
   "source": [
    "d1=data[['SQ1','Q3_1']]\n",
    "d2=d1.value_counts().sort_index()\n",
    "d2"
   ]
  },
  {
   "cell_type": "code",
   "execution_count": 13,
   "id": "fe08f3d4",
   "metadata": {},
   "outputs": [
    {
     "data": {
      "text/plain": [
       "3    684\n",
       "2    131\n",
       "1    101\n",
       "4     59\n",
       "5     25\n",
       "Name: DQ2, dtype: int64"
      ]
     },
     "execution_count": 13,
     "metadata": {},
     "output_type": "execute_result"
    }
   ],
   "source": [
    "data['DQ2'].value_counts()"
   ]
  },
  {
   "cell_type": "code",
   "execution_count": 14,
   "id": "21198133",
   "metadata": {},
   "outputs": [
    {
     "data": {
      "text/plain": [
       "DQ2  Q3_1\n",
       "1    1         5\n",
       "     2         7\n",
       "     3        46\n",
       "     4        25\n",
       "     5         8\n",
       "     6        10\n",
       "2    1         5\n",
       "     2        14\n",
       "     3        54\n",
       "     4        43\n",
       "     5        14\n",
       "     6         1\n",
       "3    1        19\n",
       "     2        34\n",
       "     3       286\n",
       "     4       228\n",
       "     5        84\n",
       "     6        33\n",
       "4    1         3\n",
       "     2         1\n",
       "     3        23\n",
       "     4        20\n",
       "     5        12\n",
       "5    1         2\n",
       "     2         2\n",
       "     3         9\n",
       "     4         8\n",
       "     5         3\n",
       "     6         1\n",
       "dtype: int64"
      ]
     },
     "execution_count": 14,
     "metadata": {},
     "output_type": "execute_result"
    }
   ],
   "source": [
    "d1=data[['DQ2','Q3_1']]\n",
    "d2=d1.value_counts().sort_index()\n",
    "d2"
   ]
  },
  {
   "cell_type": "code",
   "execution_count": 15,
   "id": "039f8f62",
   "metadata": {},
   "outputs": [
    {
     "data": {
      "text/html": [
       "<div>\n",
       "<style scoped>\n",
       "    .dataframe tbody tr th:only-of-type {\n",
       "        vertical-align: middle;\n",
       "    }\n",
       "\n",
       "    .dataframe tbody tr th {\n",
       "        vertical-align: top;\n",
       "    }\n",
       "\n",
       "    .dataframe thead th {\n",
       "        text-align: right;\n",
       "    }\n",
       "</style>\n",
       "<table border=\"1\" class=\"dataframe\">\n",
       "  <thead>\n",
       "    <tr style=\"text-align: right;\">\n",
       "      <th></th>\n",
       "      <th>많이 감소</th>\n",
       "      <th>조금 감소</th>\n",
       "      <th>변화없음</th>\n",
       "      <th>조금 증가</th>\n",
       "      <th>많이 증가</th>\n",
       "    </tr>\n",
       "  </thead>\n",
       "  <tbody>\n",
       "    <tr>\n",
       "      <th>1인가구</th>\n",
       "      <td>5</td>\n",
       "      <td>7</td>\n",
       "      <td>46</td>\n",
       "      <td>25</td>\n",
       "      <td>8</td>\n",
       "    </tr>\n",
       "    <tr>\n",
       "      <th>1세대 가구(부부)</th>\n",
       "      <td>5</td>\n",
       "      <td>14</td>\n",
       "      <td>54</td>\n",
       "      <td>43</td>\n",
       "      <td>14</td>\n",
       "    </tr>\n",
       "    <tr>\n",
       "      <th>2세대 가구(부부+자녀)</th>\n",
       "      <td>19</td>\n",
       "      <td>34</td>\n",
       "      <td>286</td>\n",
       "      <td>228</td>\n",
       "      <td>84</td>\n",
       "    </tr>\n",
       "    <tr>\n",
       "      <th>3세대 가구(조부모+부모+자녀)</th>\n",
       "      <td>3</td>\n",
       "      <td>23</td>\n",
       "      <td>23</td>\n",
       "      <td>20</td>\n",
       "      <td>12</td>\n",
       "    </tr>\n",
       "    <tr>\n",
       "      <th>기타(비혈연 가구 등)</th>\n",
       "      <td>2</td>\n",
       "      <td>9</td>\n",
       "      <td>9</td>\n",
       "      <td>8</td>\n",
       "      <td>3</td>\n",
       "    </tr>\n",
       "  </tbody>\n",
       "</table>\n",
       "</div>"
      ],
      "text/plain": [
       "                   많이 감소  조금 감소  변화없음  조금 증가  많이 증가\n",
       "1인가구                   5      7    46     25      8\n",
       "1세대 가구(부부)             5     14    54     43     14\n",
       " 2세대 가구(부부+자녀)        19     34   286    228     84\n",
       "3세대 가구(조부모+부모+자녀)      3     23    23     20     12\n",
       "기타(비혈연 가구 등)           2      9     9      8      3"
      ]
     },
     "execution_count": 15,
     "metadata": {},
     "output_type": "execute_result"
    }
   ],
   "source": [
    "dict_family = {'많이 감소':[5,5,19,3,2], '조금 감소':[7,14,34,23,9], '변화없음':[46,54,286,23,9], '조금 증가':[25,43,228,20,8], '많이 증가':[8,14,84,12,3]}\n",
    "Family= ['1인가구', '1세대 가구(부부)',' 2세대 가구(부부+자녀)', '3세대 가구(조부모+부모+자녀)', '기타(비혈연 가구 등)']\n",
    "\n",
    "df = pd.DataFrame(dict_family, index = Family)\n",
    "df"
   ]
  },
  {
   "cell_type": "code",
   "execution_count": 16,
   "id": "549a31b1",
   "metadata": {},
   "outputs": [
    {
     "data": {
      "image/png": "[encoded data removed]",
      "text/plain": [
       "<Figure size 1080x720 with 1 Axes>"
      ]
     },
     "metadata": {
      "needs_background": "light"
     },
     "output_type": "display_data"
    }
   ],
   "source": [
    "fig, ax = plt.subplots(figsize=(15,10))\n",
    "bar_width = 0.1\n",
    "\n",
    "index = np.arange(5)\n",
    "\n",
    "b1 = plt.bar(index, df['많이 감소'], bar_width, alpha=0.5, color='red', label='많이 감소')\n",
    "b2 = plt.bar(index + bar_width, df['조금 감소'], bar_width, alpha=0.5, color='blue', label='조금 감소')\n",
    "b3 = plt.bar(index + 2 * bar_width, df['변화없음'], bar_width, alpha=0.5, color='green', label='변화없음')\n",
    "b4 = plt.bar(index + 3 * bar_width, df['조금 증가'], bar_width, alpha=0.5, color='pink', label='조금 증가')\n",
    "b5 = plt.bar(index + 4 * bar_width, df['많이 증가'], bar_width, alpha=0.5, color='yellow', label='많이 증가')\n",
    "\n",
    "plt.xticks(np.arange(bar_width, 5+ bar_width, 1), Family, fontsize=10)\n",
    "\n",
    "plt.xlabel('가족', size = 10)\n",
    "plt.ylabel('서비스 이용 변화량', size = 10)\n",
    "plt.title('지상파 채널(KBS, MBC, SBS, EBS 등)')\n",
    "plt.legend()\n",
    "plt.show()"
   ]
  },
  {
   "cell_type": "code",
   "execution_count": 17,
   "id": "53b1bb18",
   "metadata": {},
   "outputs": [
    {
     "data": {
      "text/plain": [
       "DQ2  Q3_2\n",
       "1    1         7\n",
       "     2         5\n",
       "     3        36\n",
       "     4        30\n",
       "     5        14\n",
       "     6         9\n",
       "2    1         2\n",
       "     2        10\n",
       "     3        39\n",
       "     4        52\n",
       "     5        25\n",
       "     6         3\n",
       "3    1        11\n",
       "     2        28\n",
       "     3       229\n",
       "     4       245\n",
       "     5       130\n",
       "     6        41\n",
       "4    1         1\n",
       "     2         1\n",
       "     3        16\n",
       "     4        25\n",
       "     5        12\n",
       "     6         4\n",
       "5    1         1\n",
       "     2         1\n",
       "     3        10\n",
       "     4         7\n",
       "     5         4\n",
       "     6         2\n",
       "dtype: int64"
      ]
     },
     "execution_count": 17,
     "metadata": {},
     "output_type": "execute_result"
    }
   ],
   "source": [
    "d1=data[['DQ2','Q3_2']]\n",
    "d2=d1.value_counts().sort_index()\n",
    "d2"
   ]
  },
  {
   "cell_type": "code",
   "execution_count": 18,
   "id": "e1b39607",
   "metadata": {},
   "outputs": [
    {
     "data": {
      "text/html": [
       "<div>\n",
       "<style scoped>\n",
       "    .dataframe tbody tr th:only-of-type {\n",
       "        vertical-align: middle;\n",
       "    }\n",
       "\n",
       "    .dataframe tbody tr th {\n",
       "        vertical-align: top;\n",
       "    }\n",
       "\n",
       "    .dataframe thead th {\n",
       "        text-align: right;\n",
       "    }\n",
       "</style>\n",
       "<table border=\"1\" class=\"dataframe\">\n",
       "  <thead>\n",
       "    <tr style=\"text-align: right;\">\n",
       "      <th></th>\n",
       "      <th>많이 감소</th>\n",
       "      <th>조금 감소</th>\n",
       "      <th>변화없음</th>\n",
       "      <th>조금 증가</th>\n",
       "      <th>많이 증가</th>\n",
       "    </tr>\n",
       "  </thead>\n",
       "  <tbody>\n",
       "    <tr>\n",
       "      <th>1인가구</th>\n",
       "      <td>7</td>\n",
       "      <td>5</td>\n",
       "      <td>36</td>\n",
       "      <td>30</td>\n",
       "      <td>14</td>\n",
       "    </tr>\n",
       "    <tr>\n",
       "      <th>1세대 가구(부부)</th>\n",
       "      <td>2</td>\n",
       "      <td>10</td>\n",
       "      <td>39</td>\n",
       "      <td>52</td>\n",
       "      <td>25</td>\n",
       "    </tr>\n",
       "    <tr>\n",
       "      <th>2세대 가구(부부+자녀)</th>\n",
       "      <td>11</td>\n",
       "      <td>28</td>\n",
       "      <td>229</td>\n",
       "      <td>245</td>\n",
       "      <td>130</td>\n",
       "    </tr>\n",
       "    <tr>\n",
       "      <th>3세대 가구(조부모+부모+자녀)</th>\n",
       "      <td>1</td>\n",
       "      <td>1</td>\n",
       "      <td>16</td>\n",
       "      <td>25</td>\n",
       "      <td>12</td>\n",
       "    </tr>\n",
       "    <tr>\n",
       "      <th>기타(비혈연 가구 등)</th>\n",
       "      <td>1</td>\n",
       "      <td>1</td>\n",
       "      <td>10</td>\n",
       "      <td>7</td>\n",
       "      <td>4</td>\n",
       "    </tr>\n",
       "  </tbody>\n",
       "</table>\n",
       "</div>"
      ],
      "text/plain": [
       "                   많이 감소  조금 감소  변화없음  조금 증가  많이 증가\n",
       "1인가구                   7      5    36     30     14\n",
       "1세대 가구(부부)             2     10    39     52     25\n",
       " 2세대 가구(부부+자녀)        11     28   229    245    130\n",
       "3세대 가구(조부모+부모+자녀)      1      1    16     25     12\n",
       "기타(비혈연 가구 등)           1      1    10      7      4"
      ]
     },
     "execution_count": 18,
     "metadata": {},
     "output_type": "execute_result"
    }
   ],
   "source": [
    "dict_family = {'많이 감소':[7,2,11,1,1], '조금 감소':[5,10,28,1,1], '변화없음':[36,39,229,16,10], '조금 증가':[30,52,245,25,7], '많이 증가':[14,25,130,12,4]}\n",
    "Family= ['1인가구', '1세대 가구(부부)',' 2세대 가구(부부+자녀)', '3세대 가구(조부모+부모+자녀)', '기타(비혈연 가구 등)']\n",
    "\n",
    "df = pd.DataFrame(dict_family, index = Family)\n",
    "df"
   ]
  },
  {
   "cell_type": "code",
   "execution_count": 19,
   "id": "0365253b",
   "metadata": {},
   "outputs": [
    {
     "data": {
      "image/png": "[encoded data removed]",
      "text/plain": [
       "<Figure size 1080x720 with 1 Axes>"
      ]
     },
     "metadata": {
      "needs_background": "light"
     },
     "output_type": "display_data"
    }
   ],
   "source": [
    "fig, ax = plt.subplots(figsize=(15,10))\n",
    "bar_width = 0.1\n",
    "\n",
    "index = np.arange(5)\n",
    "\n",
    "b1 = plt.bar(index, df['많이 감소'], bar_width, alpha=0.5, color='red', label='많이 감소')\n",
    "b2 = plt.bar(index + bar_width, df['조금 감소'], bar_width, alpha=0.5, color='blue', label='조금 감소')\n",
    "b3 = plt.bar(index + 2 * bar_width, df['변화없음'], bar_width, alpha=0.5, color='green', label='변화없음')\n",
    "b4 = plt.bar(index + 3 * bar_width, df['조금 증가'], bar_width, alpha=0.5, color='pink', label='조금 증가')\n",
    "b5 = plt.bar(index + 4 * bar_width, df['많이 증가'], bar_width, alpha=0.5, color='yellow', label='많이 증가')\n",
    "\n",
    "plt.xticks(np.arange(bar_width, 5+ bar_width, 1), Family, fontsize=10)\n",
    "\n",
    "plt.xlabel('가족', size = 10)\n",
    "plt.ylabel('서비스 이용 변화량', size = 10)\n",
    "plt.title('종편, 보도채널, 기타 TV 채널(JTBC, YTN, tvN 등)')\n",
    "plt.legend()\n",
    "plt.show()"
   ]
  },
  {
   "cell_type": "code",
   "execution_count": 20,
   "id": "36038ea9",
   "metadata": {},
   "outputs": [
    {
     "data": {
      "text/plain": [
       "DQ2  Q3_3\n",
       "1    2         3\n",
       "     3        24\n",
       "     4        35\n",
       "     5        18\n",
       "     6        21\n",
       "2    2         3\n",
       "     3        26\n",
       "     4        33\n",
       "     5        25\n",
       "     6        44\n",
       "3    1         4\n",
       "     2        11\n",
       "     3       171\n",
       "     4       190\n",
       "     5       156\n",
       "     6       152\n",
       "4    3        13\n",
       "     4        18\n",
       "     5        14\n",
       "     6        14\n",
       "5    2         1\n",
       "     3         7\n",
       "     4         6\n",
       "     5         4\n",
       "     6         7\n",
       "dtype: int64"
      ]
     },
     "execution_count": 20,
     "metadata": {},
     "output_type": "execute_result"
    }
   ],
   "source": [
    "d1=data[['DQ2','Q3_3']]\n",
    "d2=d1.value_counts().sort_index()\n",
    "d2"
   ]
  },
  {
   "cell_type": "code",
   "execution_count": 21,
   "id": "3f2ff921",
   "metadata": {},
   "outputs": [
    {
     "data": {
      "text/html": [
       "<div>\n",
       "<style scoped>\n",
       "    .dataframe tbody tr th:only-of-type {\n",
       "        vertical-align: middle;\n",
       "    }\n",
       "\n",
       "    .dataframe tbody tr th {\n",
       "        vertical-align: top;\n",
       "    }\n",
       "\n",
       "    .dataframe thead th {\n",
       "        text-align: right;\n",
       "    }\n",
       "</style>\n",
       "<table border=\"1\" class=\"dataframe\">\n",
       "  <thead>\n",
       "    <tr style=\"text-align: right;\">\n",
       "      <th></th>\n",
       "      <th>많이 감소</th>\n",
       "      <th>조금 감소</th>\n",
       "      <th>변화없음</th>\n",
       "      <th>조금 증가</th>\n",
       "      <th>많이 증가</th>\n",
       "    </tr>\n",
       "  </thead>\n",
       "  <tbody>\n",
       "    <tr>\n",
       "      <th>1인가구</th>\n",
       "      <td>0</td>\n",
       "      <td>3</td>\n",
       "      <td>24</td>\n",
       "      <td>35</td>\n",
       "      <td>18</td>\n",
       "    </tr>\n",
       "    <tr>\n",
       "      <th>1세대 가구(부부)</th>\n",
       "      <td>0</td>\n",
       "      <td>3</td>\n",
       "      <td>26</td>\n",
       "      <td>33</td>\n",
       "      <td>25</td>\n",
       "    </tr>\n",
       "    <tr>\n",
       "      <th>2세대 가구(부부+자녀)</th>\n",
       "      <td>4</td>\n",
       "      <td>11</td>\n",
       "      <td>171</td>\n",
       "      <td>190</td>\n",
       "      <td>156</td>\n",
       "    </tr>\n",
       "    <tr>\n",
       "      <th>3세대 가구(조부모+부모+자녀)</th>\n",
       "      <td>0</td>\n",
       "      <td>0</td>\n",
       "      <td>13</td>\n",
       "      <td>18</td>\n",
       "      <td>14</td>\n",
       "    </tr>\n",
       "    <tr>\n",
       "      <th>기타(비혈연 가구 등)</th>\n",
       "      <td>0</td>\n",
       "      <td>1</td>\n",
       "      <td>7</td>\n",
       "      <td>6</td>\n",
       "      <td>4</td>\n",
       "    </tr>\n",
       "  </tbody>\n",
       "</table>\n",
       "</div>"
      ],
      "text/plain": [
       "                   많이 감소  조금 감소  변화없음  조금 증가  많이 증가\n",
       "1인가구                   0      3    24     35     18\n",
       "1세대 가구(부부)             0      3    26     33     25\n",
       " 2세대 가구(부부+자녀)         4     11   171    190    156\n",
       "3세대 가구(조부모+부모+자녀)      0      0    13     18     14\n",
       "기타(비혈연 가구 등)           0      1     7      6      4"
      ]
     },
     "execution_count": 21,
     "metadata": {},
     "output_type": "execute_result"
    }
   ],
   "source": [
    "dict_family = {'많이 감소':[0,0,4,0,0], '조금 감소':[3,3,11,0,1], '변화없음':[24,26,171,13,7], '조금 증가':[35,33,190,18,6], '많이 증가':[18,25,156,14,4]}\n",
    "Family= ['1인가구', '1세대 가구(부부)',' 2세대 가구(부부+자녀)', '3세대 가구(조부모+부모+자녀)', '기타(비혈연 가구 등)']\n",
    "\n",
    "df = pd.DataFrame(dict_family, index = Family)\n",
    "df"
   ]
  },
  {
   "cell_type": "code",
   "execution_count": 22,
   "id": "094a8807",
   "metadata": {},
   "outputs": [
    {
     "data": {
      "image/png": "[encoded data removed]",
      "text/plain": [
       "<Figure size 1080x720 with 1 Axes>"
      ]
     },
     "metadata": {
      "needs_background": "light"
     },
     "output_type": "display_data"
    }
   ],
   "source": [
    "fig, ax = plt.subplots(figsize=(15,10))\n",
    "bar_width = 0.1\n",
    "\n",
    "index = np.arange(5)\n",
    "\n",
    "b1 = plt.bar(index, df['많이 감소'], bar_width, alpha=0.5, color='red', label='많이 감소')\n",
    "b2 = plt.bar(index + bar_width, df['조금 감소'], bar_width, alpha=0.5, color='blue', label='조금 감소')\n",
    "b3 = plt.bar(index + 2 * bar_width, df['변화없음'], bar_width, alpha=0.5, color='green', label='변화없음')\n",
    "b4 = plt.bar(index + 3 * bar_width, df['조금 증가'], bar_width, alpha=0.5, color='pink', label='조금 증가')\n",
    "b5 = plt.bar(index + 4 * bar_width, df['많이 증가'], bar_width, alpha=0.5, color='yellow', label='많이 증가')\n",
    "\n",
    "plt.xticks(np.arange(bar_width, 5+ bar_width, 1), Family, fontsize=10)\n",
    "\n",
    "plt.xlabel('가족', size = 10)\n",
    "plt.ylabel('서비스 이용 변화량', size = 10)\n",
    "plt.title('온라인 동영상 플랫폼(넷플릭스, 웨이브, 티빙 등))')\n",
    "plt.legend()\n",
    "plt.show()"
   ]
  },
  {
   "cell_type": "code",
   "execution_count": 23,
   "id": "caa6fd60",
   "metadata": {},
   "outputs": [
    {
     "data": {
      "text/plain": [
       "DQ2  Q3_4\n",
       "1    1         1\n",
       "     2         1\n",
       "     3        28\n",
       "     4        30\n",
       "     5        29\n",
       "     6        12\n",
       "2    1         1\n",
       "     2         4\n",
       "     3        30\n",
       "     4        39\n",
       "     5        25\n",
       "     6        32\n",
       "3    1         5\n",
       "     2        11\n",
       "     3       212\n",
       "     4       208\n",
       "     5       156\n",
       "     6        92\n",
       "4    1         1\n",
       "     3        19\n",
       "     4        15\n",
       "     5        17\n",
       "     6         7\n",
       "5    2         1\n",
       "     3         7\n",
       "     4         9\n",
       "     5         6\n",
       "     6         2\n",
       "dtype: int64"
      ]
     },
     "execution_count": 23,
     "metadata": {},
     "output_type": "execute_result"
    }
   ],
   "source": [
    "d1=data[['DQ2','Q3_4']]\n",
    "d2=d1.value_counts().sort_index()\n",
    "d2"
   ]
  },
  {
   "cell_type": "code",
   "execution_count": 24,
   "id": "df5b11f0",
   "metadata": {},
   "outputs": [
    {
     "data": {
      "text/html": [
       "<div>\n",
       "<style scoped>\n",
       "    .dataframe tbody tr th:only-of-type {\n",
       "        vertical-align: middle;\n",
       "    }\n",
       "\n",
       "    .dataframe tbody tr th {\n",
       "        vertical-align: top;\n",
       "    }\n",
       "\n",
       "    .dataframe thead th {\n",
       "        text-align: right;\n",
       "    }\n",
       "</style>\n",
       "<table border=\"1\" class=\"dataframe\">\n",
       "  <thead>\n",
       "    <tr style=\"text-align: right;\">\n",
       "      <th></th>\n",
       "      <th>많이 감소</th>\n",
       "      <th>조금 감소</th>\n",
       "      <th>변화없음</th>\n",
       "      <th>조금 증가</th>\n",
       "      <th>많이 증가</th>\n",
       "    </tr>\n",
       "  </thead>\n",
       "  <tbody>\n",
       "    <tr>\n",
       "      <th>1인가구</th>\n",
       "      <td>1</td>\n",
       "      <td>1</td>\n",
       "      <td>28</td>\n",
       "      <td>30</td>\n",
       "      <td>29</td>\n",
       "    </tr>\n",
       "    <tr>\n",
       "      <th>1세대 가구(부부)</th>\n",
       "      <td>1</td>\n",
       "      <td>4</td>\n",
       "      <td>30</td>\n",
       "      <td>39</td>\n",
       "      <td>25</td>\n",
       "    </tr>\n",
       "    <tr>\n",
       "      <th>2세대 가구(부부+자녀)</th>\n",
       "      <td>5</td>\n",
       "      <td>11</td>\n",
       "      <td>212</td>\n",
       "      <td>208</td>\n",
       "      <td>156</td>\n",
       "    </tr>\n",
       "    <tr>\n",
       "      <th>3세대 가구(조부모+부모+자녀)</th>\n",
       "      <td>1</td>\n",
       "      <td>0</td>\n",
       "      <td>19</td>\n",
       "      <td>15</td>\n",
       "      <td>17</td>\n",
       "    </tr>\n",
       "    <tr>\n",
       "      <th>기타(비혈연 가구 등)</th>\n",
       "      <td>0</td>\n",
       "      <td>1</td>\n",
       "      <td>7</td>\n",
       "      <td>9</td>\n",
       "      <td>6</td>\n",
       "    </tr>\n",
       "  </tbody>\n",
       "</table>\n",
       "</div>"
      ],
      "text/plain": [
       "                   많이 감소  조금 감소  변화없음  조금 증가  많이 증가\n",
       "1인가구                   1      1    28     30     29\n",
       "1세대 가구(부부)             1      4    30     39     25\n",
       " 2세대 가구(부부+자녀)         5     11   212    208    156\n",
       "3세대 가구(조부모+부모+자녀)      1      0    19     15     17\n",
       "기타(비혈연 가구 등)           0      1     7      9      6"
      ]
     },
     "execution_count": 24,
     "metadata": {},
     "output_type": "execute_result"
    }
   ],
   "source": [
    "dict_family = {'많이 감소':[1,1,5,1,0], '조금 감소':[1,4,11,0,1], '변화없음':[28,30,212,19,7], '조금 증가':[30,39,208,15,9], '많이 증가':[29,25,156,17,6]}\n",
    "Family= ['1인가구', '1세대 가구(부부)',' 2세대 가구(부부+자녀)', '3세대 가구(조부모+부모+자녀)', '기타(비혈연 가구 등)']\n",
    "\n",
    "df = pd.DataFrame(dict_family, index = Family)\n",
    "df"
   ]
  },
  {
   "cell_type": "code",
   "execution_count": 25,
   "id": "746e8eab",
   "metadata": {},
   "outputs": [
    {
     "data": {
      "image/png": "[encoded data removed]",
      "text/plain": [
       "<Figure size 1080x720 with 1 Axes>"
      ]
     },
     "metadata": {
      "needs_background": "light"
     },
     "output_type": "display_data"
    }
   ],
   "source": [
    "fig, ax = plt.subplots(figsize=(15,10))\n",
    "bar_width = 0.1\n",
    "\n",
    "index = np.arange(5)\n",
    "\n",
    "b1 = plt.bar(index, df['많이 감소'], bar_width, alpha=0.5, color='red', label='많이 감소')\n",
    "b2 = plt.bar(index + bar_width, df['조금 감소'], bar_width, alpha=0.5, color='blue', label='조금 감소')\n",
    "b3 = plt.bar(index + 2 * bar_width, df['변화없음'], bar_width, alpha=0.5, color='green', label='변화없음')\n",
    "b4 = plt.bar(index + 3 * bar_width, df['조금 증가'], bar_width, alpha=0.5, color='pink', label='조금 증가')\n",
    "b5 = plt.bar(index + 4 * bar_width, df['많이 증가'], bar_width, alpha=0.5, color='yellow', label='많이 증가')\n",
    "\n",
    "plt.xticks(np.arange(bar_width, 5+ bar_width, 1), Family, fontsize=10)\n",
    "\n",
    "plt.xlabel('가족', size = 10)\n",
    "plt.ylabel('서비스 이용 변화량', size = 10)\n",
    "plt.title('1인 미디어 플랫폼(유튜브, 아프리카 TV, 트위치 등))')\n",
    "plt.legend()\n",
    "plt.show()"
   ]
  },
  {
   "cell_type": "code",
   "execution_count": 26,
   "id": "16dad377",
   "metadata": {},
   "outputs": [
    {
     "data": {
      "text/plain": [
       "DQ2  Q3_5\n",
       "1    2         3\n",
       "     3        43\n",
       "     4        35\n",
       "     5        19\n",
       "     6         1\n",
       "2    1         1\n",
       "     2         3\n",
       "     3        59\n",
       "     4        45\n",
       "     5        18\n",
       "     6         5\n",
       "3    1         4\n",
       "     2        17\n",
       "     3       269\n",
       "     4       241\n",
       "     5       137\n",
       "     6        16\n",
       "4    1         1\n",
       "     2         2\n",
       "     3        22\n",
       "     4        23\n",
       "     5        11\n",
       "5    3        17\n",
       "     4         4\n",
       "     5         4\n",
       "dtype: int64"
      ]
     },
     "execution_count": 26,
     "metadata": {},
     "output_type": "execute_result"
    }
   ],
   "source": [
    "d1=data[['DQ2','Q3_5']]\n",
    "d2=d1.value_counts().sort_index()\n",
    "d2"
   ]
  },
  {
   "cell_type": "code",
   "execution_count": 27,
   "id": "97d2923e",
   "metadata": {},
   "outputs": [
    {
     "data": {
      "text/html": [
       "<div>\n",
       "<style scoped>\n",
       "    .dataframe tbody tr th:only-of-type {\n",
       "        vertical-align: middle;\n",
       "    }\n",
       "\n",
       "    .dataframe tbody tr th {\n",
       "        vertical-align: top;\n",
       "    }\n",
       "\n",
       "    .dataframe thead th {\n",
       "        text-align: right;\n",
       "    }\n",
       "</style>\n",
       "<table border=\"1\" class=\"dataframe\">\n",
       "  <thead>\n",
       "    <tr style=\"text-align: right;\">\n",
       "      <th></th>\n",
       "      <th>많이 감소</th>\n",
       "      <th>조금 감소</th>\n",
       "      <th>변화없음</th>\n",
       "      <th>조금 증가</th>\n",
       "      <th>많이 증가</th>\n",
       "    </tr>\n",
       "  </thead>\n",
       "  <tbody>\n",
       "    <tr>\n",
       "      <th>1인가구</th>\n",
       "      <td>0</td>\n",
       "      <td>3</td>\n",
       "      <td>43</td>\n",
       "      <td>35</td>\n",
       "      <td>19</td>\n",
       "    </tr>\n",
       "    <tr>\n",
       "      <th>1세대 가구(부부)</th>\n",
       "      <td>1</td>\n",
       "      <td>3</td>\n",
       "      <td>59</td>\n",
       "      <td>45</td>\n",
       "      <td>18</td>\n",
       "    </tr>\n",
       "    <tr>\n",
       "      <th>2세대 가구(부부+자녀)</th>\n",
       "      <td>4</td>\n",
       "      <td>17</td>\n",
       "      <td>269</td>\n",
       "      <td>241</td>\n",
       "      <td>137</td>\n",
       "    </tr>\n",
       "    <tr>\n",
       "      <th>3세대 가구(조부모+부모+자녀)</th>\n",
       "      <td>1</td>\n",
       "      <td>2</td>\n",
       "      <td>22</td>\n",
       "      <td>23</td>\n",
       "      <td>11</td>\n",
       "    </tr>\n",
       "    <tr>\n",
       "      <th>기타(비혈연 가구 등)</th>\n",
       "      <td>0</td>\n",
       "      <td>0</td>\n",
       "      <td>17</td>\n",
       "      <td>4</td>\n",
       "      <td>4</td>\n",
       "    </tr>\n",
       "  </tbody>\n",
       "</table>\n",
       "</div>"
      ],
      "text/plain": [
       "                   많이 감소  조금 감소  변화없음  조금 증가  많이 증가\n",
       "1인가구                   0      3    43     35     19\n",
       "1세대 가구(부부)             1      3    59     45     18\n",
       " 2세대 가구(부부+자녀)         4     17   269    241    137\n",
       "3세대 가구(조부모+부모+자녀)      1      2    22     23     11\n",
       "기타(비혈연 가구 등)           0      0    17      4      4"
      ]
     },
     "execution_count": 27,
     "metadata": {},
     "output_type": "execute_result"
    }
   ],
   "source": [
    "dict_family = {'많이 감소':[0,1,4,1,0], '조금 감소':[3,3,17,2,0], '변화없음':[43,59,269,22,17], '조금 증가':[35,45,241,23,4], '많이 증가':[19,18,137,11,4]}\n",
    "Family= ['1인가구', '1세대 가구(부부)',' 2세대 가구(부부+자녀)', '3세대 가구(조부모+부모+자녀)', '기타(비혈연 가구 등)']\n",
    "\n",
    "df = pd.DataFrame(dict_family, index = Family)\n",
    "df"
   ]
  },
  {
   "cell_type": "code",
   "execution_count": 28,
   "id": "6abef052",
   "metadata": {},
   "outputs": [
    {
     "data": {
      "image/png": "[encoded data removed]",
      "text/plain": [
       "<Figure size 1080x720 with 1 Axes>"
      ]
     },
     "metadata": {
      "needs_background": "light"
     },
     "output_type": "display_data"
    }
   ],
   "source": [
    "fig, ax = plt.subplots(figsize=(15,10))\n",
    "bar_width = 0.1\n",
    "\n",
    "index = np.arange(5)\n",
    "\n",
    "b1 = plt.bar(index, df['많이 감소'], bar_width, alpha=0.5, color='red', label='많이 감소')\n",
    "b2 = plt.bar(index + bar_width, df['조금 감소'], bar_width, alpha=0.5, color='blue', label='조금 감소')\n",
    "b3 = plt.bar(index + 2 * bar_width, df['변화없음'], bar_width, alpha=0.5, color='green', label='변화없음')\n",
    "b4 = plt.bar(index + 3 * bar_width, df['조금 증가'], bar_width, alpha=0.5, color='pink', label='조금 증가')\n",
    "b5 = plt.bar(index + 4 * bar_width, df['많이 증가'], bar_width, alpha=0.5, color='yellow', label='많이 증가')\n",
    "\n",
    "plt.xticks(np.arange(bar_width, 5+ bar_width, 1), Family, fontsize=10)\n",
    "\n",
    "plt.xlabel('가족', size = 10)\n",
    "plt.ylabel('서비스 이용 변화량', size = 10)\n",
    "plt.title('메신저 서비스(카카오톡, 라인 등)')\n",
    "plt.legend()\n",
    "plt.show()"
   ]
  },
  {
   "cell_type": "code",
   "execution_count": 29,
   "id": "174dc5e9",
   "metadata": {},
   "outputs": [
    {
     "data": {
      "text/plain": [
       "DQ2  Q3_6\n",
       "1    1         4\n",
       "     2         2\n",
       "     3        46\n",
       "     4        23\n",
       "     5        10\n",
       "     6        16\n",
       "2    1         4\n",
       "     2         3\n",
       "     3        59\n",
       "     4        24\n",
       "     5         8\n",
       "     6        33\n",
       "3    1        10\n",
       "     2        18\n",
       "     3       272\n",
       "     4       170\n",
       "     5        89\n",
       "     6       125\n",
       "4    2         3\n",
       "     3        24\n",
       "     4        13\n",
       "     5        12\n",
       "     6         7\n",
       "5    2         2\n",
       "     3        13\n",
       "     4         6\n",
       "     5         2\n",
       "     6         2\n",
       "dtype: int64"
      ]
     },
     "execution_count": 29,
     "metadata": {},
     "output_type": "execute_result"
    }
   ],
   "source": [
    "d1=data[['DQ2','Q3_6']]\n",
    "d2=d1.value_counts().sort_index()\n",
    "d2"
   ]
  },
  {
   "cell_type": "code",
   "execution_count": 30,
   "id": "b6bb68d9",
   "metadata": {},
   "outputs": [
    {
     "data": {
      "text/html": [
       "<div>\n",
       "<style scoped>\n",
       "    .dataframe tbody tr th:only-of-type {\n",
       "        vertical-align: middle;\n",
       "    }\n",
       "\n",
       "    .dataframe tbody tr th {\n",
       "        vertical-align: top;\n",
       "    }\n",
       "\n",
       "    .dataframe thead th {\n",
       "        text-align: right;\n",
       "    }\n",
       "</style>\n",
       "<table border=\"1\" class=\"dataframe\">\n",
       "  <thead>\n",
       "    <tr style=\"text-align: right;\">\n",
       "      <th></th>\n",
       "      <th>많이 감소</th>\n",
       "      <th>조금 감소</th>\n",
       "      <th>변화없음</th>\n",
       "      <th>조금 증가</th>\n",
       "      <th>많이 증가</th>\n",
       "    </tr>\n",
       "  </thead>\n",
       "  <tbody>\n",
       "    <tr>\n",
       "      <th>1인가구</th>\n",
       "      <td>4</td>\n",
       "      <td>2</td>\n",
       "      <td>46</td>\n",
       "      <td>23</td>\n",
       "      <td>10</td>\n",
       "    </tr>\n",
       "    <tr>\n",
       "      <th>1세대 가구(부부)</th>\n",
       "      <td>4</td>\n",
       "      <td>3</td>\n",
       "      <td>59</td>\n",
       "      <td>24</td>\n",
       "      <td>8</td>\n",
       "    </tr>\n",
       "    <tr>\n",
       "      <th>2세대 가구(부부+자녀)</th>\n",
       "      <td>10</td>\n",
       "      <td>18</td>\n",
       "      <td>272</td>\n",
       "      <td>170</td>\n",
       "      <td>89</td>\n",
       "    </tr>\n",
       "    <tr>\n",
       "      <th>3세대 가구(조부모+부모+자녀)</th>\n",
       "      <td>0</td>\n",
       "      <td>3</td>\n",
       "      <td>24</td>\n",
       "      <td>13</td>\n",
       "      <td>12</td>\n",
       "    </tr>\n",
       "    <tr>\n",
       "      <th>기타(비혈연 가구 등)</th>\n",
       "      <td>0</td>\n",
       "      <td>2</td>\n",
       "      <td>13</td>\n",
       "      <td>6</td>\n",
       "      <td>2</td>\n",
       "    </tr>\n",
       "  </tbody>\n",
       "</table>\n",
       "</div>"
      ],
      "text/plain": [
       "                   많이 감소  조금 감소  변화없음  조금 증가  많이 증가\n",
       "1인가구                   4      2    46     23     10\n",
       "1세대 가구(부부)             4      3    59     24      8\n",
       " 2세대 가구(부부+자녀)        10     18   272    170     89\n",
       "3세대 가구(조부모+부모+자녀)      0      3    24     13     12\n",
       "기타(비혈연 가구 등)           0      2    13      6      2"
      ]
     },
     "execution_count": 30,
     "metadata": {},
     "output_type": "execute_result"
    }
   ],
   "source": [
    "dict_family = {'많이 감소':[4,4,10,0,0], '조금 감소':[2,3,18,3,2], '변화없음':[46,59,272,24,13], '조금 증가':[23,24,170,13,6], '많이 증가':[10,8,89,12,2]}\n",
    "Family= ['1인가구', '1세대 가구(부부)',' 2세대 가구(부부+자녀)', '3세대 가구(조부모+부모+자녀)', '기타(비혈연 가구 등)']\n",
    "\n",
    "df = pd.DataFrame(dict_family, index = Family)\n",
    "df"
   ]
  },
  {
   "cell_type": "code",
   "execution_count": 31,
   "id": "510f4b63",
   "metadata": {},
   "outputs": [
    {
     "data": {
      "image/png": "[encoded data removed]",
      "text/plain": [
       "<Figure size 1080x720 with 1 Axes>"
      ]
     },
     "metadata": {
      "needs_background": "light"
     },
     "output_type": "display_data"
    }
   ],
   "source": [
    "fig, ax = plt.subplots(figsize=(15,10))\n",
    "bar_width = 0.1\n",
    "\n",
    "index = np.arange(5)\n",
    "\n",
    "b1 = plt.bar(index, df['많이 감소'], bar_width, alpha=0.5, color='red', label='많이 감소')\n",
    "b2 = plt.bar(index + bar_width, df['조금 감소'], bar_width, alpha=0.5, color='blue', label='조금 감소')\n",
    "b3 = plt.bar(index + 2 * bar_width, df['변화없음'], bar_width, alpha=0.5, color='green', label='변화없음')\n",
    "b4 = plt.bar(index + 3 * bar_width, df['조금 증가'], bar_width, alpha=0.5, color='pink', label='조금 증가')\n",
    "b5 = plt.bar(index + 4 * bar_width, df['많이 증가'], bar_width, alpha=0.5, color='yellow', label='많이 증가')\n",
    "\n",
    "plt.xticks(np.arange(bar_width, 5+ bar_width, 1), Family, fontsize=10)\n",
    "\n",
    "plt.xlabel('가족', size = 10)\n",
    "plt.ylabel('서비스 이용 변화량', size = 10)\n",
    "plt.title('소셜미디어(페이스북, 인스타그램 등)')\n",
    "plt.legend()\n",
    "plt.show()"
   ]
  },
  {
   "cell_type": "code",
   "execution_count": 32,
   "id": "2fc7437c",
   "metadata": {},
   "outputs": [
    {
     "data": {
      "text/plain": [
       "DQ2  Q3_7\n",
       "1    2         4\n",
       "     3        31\n",
       "     4        45\n",
       "     5        21\n",
       "2    1         1\n",
       "     2         2\n",
       "     3        46\n",
       "     4        60\n",
       "     5        20\n",
       "     6         2\n",
       "3    1         1\n",
       "     2        10\n",
       "     3       232\n",
       "     4       269\n",
       "     5       166\n",
       "     6         6\n",
       "4    3        23\n",
       "     4        20\n",
       "     5        16\n",
       "5    3        10\n",
       "     4         8\n",
       "     5         7\n",
       "dtype: int64"
      ]
     },
     "execution_count": 32,
     "metadata": {},
     "output_type": "execute_result"
    }
   ],
   "source": [
    "d1=data[['DQ2','Q3_7']]\n",
    "d2=d1.value_counts().sort_index()\n",
    "d2"
   ]
  },
  {
   "cell_type": "code",
   "execution_count": 33,
   "id": "c3317a19",
   "metadata": {},
   "outputs": [
    {
     "data": {
      "text/html": [
       "<div>\n",
       "<style scoped>\n",
       "    .dataframe tbody tr th:only-of-type {\n",
       "        vertical-align: middle;\n",
       "    }\n",
       "\n",
       "    .dataframe tbody tr th {\n",
       "        vertical-align: top;\n",
       "    }\n",
       "\n",
       "    .dataframe thead th {\n",
       "        text-align: right;\n",
       "    }\n",
       "</style>\n",
       "<table border=\"1\" class=\"dataframe\">\n",
       "  <thead>\n",
       "    <tr style=\"text-align: right;\">\n",
       "      <th></th>\n",
       "      <th>많이 감소</th>\n",
       "      <th>조금 감소</th>\n",
       "      <th>변화없음</th>\n",
       "      <th>조금 증가</th>\n",
       "      <th>많이 증가</th>\n",
       "    </tr>\n",
       "  </thead>\n",
       "  <tbody>\n",
       "    <tr>\n",
       "      <th>1인가구</th>\n",
       "      <td>0</td>\n",
       "      <td>4</td>\n",
       "      <td>31</td>\n",
       "      <td>45</td>\n",
       "      <td>21</td>\n",
       "    </tr>\n",
       "    <tr>\n",
       "      <th>1세대 가구(부부)</th>\n",
       "      <td>1</td>\n",
       "      <td>2</td>\n",
       "      <td>46</td>\n",
       "      <td>60</td>\n",
       "      <td>20</td>\n",
       "    </tr>\n",
       "    <tr>\n",
       "      <th>2세대 가구(부부+자녀)</th>\n",
       "      <td>1</td>\n",
       "      <td>10</td>\n",
       "      <td>232</td>\n",
       "      <td>269</td>\n",
       "      <td>166</td>\n",
       "    </tr>\n",
       "    <tr>\n",
       "      <th>3세대 가구(조부모+부모+자녀)</th>\n",
       "      <td>0</td>\n",
       "      <td>0</td>\n",
       "      <td>23</td>\n",
       "      <td>20</td>\n",
       "      <td>16</td>\n",
       "    </tr>\n",
       "    <tr>\n",
       "      <th>기타(비혈연 가구 등)</th>\n",
       "      <td>0</td>\n",
       "      <td>0</td>\n",
       "      <td>10</td>\n",
       "      <td>8</td>\n",
       "      <td>7</td>\n",
       "    </tr>\n",
       "  </tbody>\n",
       "</table>\n",
       "</div>"
      ],
      "text/plain": [
       "                   많이 감소  조금 감소  변화없음  조금 증가  많이 증가\n",
       "1인가구                   0      4    31     45     21\n",
       "1세대 가구(부부)             1      2    46     60     20\n",
       " 2세대 가구(부부+자녀)         1     10   232    269    166\n",
       "3세대 가구(조부모+부모+자녀)      0      0    23     20     16\n",
       "기타(비혈연 가구 등)           0      0    10      8      7"
      ]
     },
     "execution_count": 33,
     "metadata": {},
     "output_type": "execute_result"
    }
   ],
   "source": [
    "dict_family = {'많이 감소':[0,1,1,0,0], '조금 감소':[4,2,10,0,0], '변화없음':[31,46,232,23,10], '조금 증가':[45,60,269,20,8], '많이 증가':[21,20,166,16,7]}\n",
    "Family= ['1인가구', '1세대 가구(부부)',' 2세대 가구(부부+자녀)', '3세대 가구(조부모+부모+자녀)', '기타(비혈연 가구 등)']\n",
    "\n",
    "df = pd.DataFrame(dict_family, index = Family)\n",
    "df"
   ]
  },
  {
   "cell_type": "code",
   "execution_count": 34,
   "id": "a4a39728",
   "metadata": {},
   "outputs": [
    {
     "data": {
      "image/png": "[encoded data removed]",
      "text/plain": [
       "<Figure size 1080x720 with 1 Axes>"
      ]
     },
     "metadata": {
      "needs_background": "light"
     },
     "output_type": "display_data"
    }
   ],
   "source": [
    "fig, ax = plt.subplots(figsize=(15,10))\n",
    "bar_width = 0.1\n",
    "\n",
    "index = np.arange(5)\n",
    "\n",
    "b1 = plt.bar(index, df['많이 감소'], bar_width, alpha=0.5, color='red', label='많이 감소')\n",
    "b2 = plt.bar(index + bar_width, df['조금 감소'], bar_width, alpha=0.5, color='blue', label='조금 감소')\n",
    "b3 = plt.bar(index + 2 * bar_width, df['변화없음'], bar_width, alpha=0.5, color='green', label='변화없음')\n",
    "b4 = plt.bar(index + 3 * bar_width, df['조금 증가'], bar_width, alpha=0.5, color='pink', label='조금 증가')\n",
    "b5 = plt.bar(index + 4 * bar_width, df['많이 증가'], bar_width, alpha=0.5, color='yellow', label='많이 증가')\n",
    "\n",
    "plt.xticks(np.arange(bar_width, 5+ bar_width, 1), Family, fontsize=10)\n",
    "\n",
    "plt.xlabel('가족', size = 10)\n",
    "plt.ylabel('서비스 이용 변화량', size = 10)\n",
    "plt.title('포털(네이버, 다음, 구글 등)')\n",
    "plt.legend()\n",
    "plt.show()"
   ]
  }
 ],
 "metadata": {
  "kernelspec": {
   "display_name": "Python 3 (ipykernel)",
   "language": "python",
   "name": "python3"
  },
  "language_info": {
   "codemirror_mode": {
    "name": "ipython",
    "version": 3
   },
   "file_extension": ".py",
   "mimetype": "text/x-python",
   "name": "python",
   "nbconvert_exporter": "python",
   "pygments_lexer": "ipython3",
   "version": "3.9.7"
  }
 },
 "nbformat": 4,
 "nbformat_minor": 5
}
