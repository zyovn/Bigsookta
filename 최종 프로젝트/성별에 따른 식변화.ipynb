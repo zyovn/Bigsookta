{
 "cells": [
  {
   "cell_type": "code",
   "execution_count": 1,
   "id": "3fb86510",
   "metadata": {},
   "outputs": [],
   "source": [
    "%matplotlib inline\n",
    "import pandas as pd\n",
    "import seaborn as sns\n",
    "import matplotlib.pyplot as plt\n",
    "import numpy as np"
   ]
  },
  {
   "cell_type": "code",
   "execution_count": 2,
   "id": "64e26bbc",
   "metadata": {},
   "outputs": [
    {
     "name": "stdout",
     "output_type": "stream",
     "text": [
      "['NanumGothic']\n"
     ]
    }
   ],
   "source": [
    "plt.rc('font' , family = 'NanumGothic')\n",
    "print(plt.rcParams['font.family'])"
   ]
  },
  {
   "cell_type": "code",
   "execution_count": 3,
   "id": "ccf583f8",
   "metadata": {},
   "outputs": [],
   "source": [
    "data = pd.read_excel('C:/Users/i5-8250U/Desktop/빅숙타/코로나19 이후 국민의 일상 변화 원본 데이터.xlsx')"
   ]
  },
  {
   "cell_type": "code",
   "execution_count": 4,
   "id": "48786c39",
   "metadata": {},
   "outputs": [
    {
     "data": {
      "text/plain": [
       "1    287\n",
       "2    281\n",
       "3    259\n",
       "4    132\n",
       "5     38\n",
       "9      3\n",
       "Name: Q1_3, dtype: int64"
      ]
     },
     "execution_count": 4,
     "metadata": {},
     "output_type": "execute_result"
    }
   ],
   "source": [
    "data['Q1_3'].value_counts()"
   ]
  },
  {
   "cell_type": "code",
   "execution_count": 5,
   "id": "e733e110",
   "metadata": {},
   "outputs": [
    {
     "data": {
      "text/plain": [
       "4    382\n",
       "3    269\n",
       "5    184\n",
       "2     72\n",
       "1     64\n",
       "9     29\n",
       "Name: Q1_4, dtype: int64"
      ]
     },
     "execution_count": 5,
     "metadata": {},
     "output_type": "execute_result"
    }
   ],
   "source": [
    "data['Q1_4'].value_counts()"
   ]
  },
  {
   "cell_type": "code",
   "execution_count": 6,
   "id": "3a5de170",
   "metadata": {},
   "outputs": [
    {
     "data": {
      "text/plain": [
       "4    361\n",
       "3    329\n",
       "5    215\n",
       "2     70\n",
       "1     13\n",
       "9     12\n",
       "Name: Q1_5, dtype: int64"
      ]
     },
     "execution_count": 6,
     "metadata": {},
     "output_type": "execute_result"
    }
   ],
   "source": [
    "data['Q1_5'].value_counts()"
   ]
  },
  {
   "cell_type": "code",
   "execution_count": 7,
   "id": "ed01dac5",
   "metadata": {},
   "outputs": [
    {
     "data": {
      "text/plain": [
       "1    509\n",
       "2    491\n",
       "Name: SQ2, dtype: int64"
      ]
     },
     "execution_count": 7,
     "metadata": {},
     "output_type": "execute_result"
    }
   ],
   "source": [
    "data['SQ2'].value_counts()"
   ]
  },
  {
   "cell_type": "code",
   "execution_count": 8,
   "id": "07fbb9df",
   "metadata": {},
   "outputs": [
    {
     "data": {
      "text/html": [
       "<div>\n",
       "<style scoped>\n",
       "    .dataframe tbody tr th:only-of-type {\n",
       "        vertical-align: middle;\n",
       "    }\n",
       "\n",
       "    .dataframe tbody tr th {\n",
       "        vertical-align: top;\n",
       "    }\n",
       "\n",
       "    .dataframe thead th {\n",
       "        text-align: right;\n",
       "    }\n",
       "</style>\n",
       "<table border=\"1\" class=\"dataframe\">\n",
       "  <thead>\n",
       "    <tr style=\"text-align: right;\">\n",
       "      <th></th>\n",
       "      <th>많이 감소</th>\n",
       "      <th>조금 감소</th>\n",
       "      <th>조금 증가</th>\n",
       "      <th>많이 증가</th>\n",
       "    </tr>\n",
       "  </thead>\n",
       "  <tbody>\n",
       "    <tr>\n",
       "      <th>외식</th>\n",
       "      <td>287</td>\n",
       "      <td>281</td>\n",
       "      <td>132</td>\n",
       "      <td>38</td>\n",
       "    </tr>\n",
       "    <tr>\n",
       "      <th>배달음식</th>\n",
       "      <td>64</td>\n",
       "      <td>72</td>\n",
       "      <td>382</td>\n",
       "      <td>184</td>\n",
       "    </tr>\n",
       "    <tr>\n",
       "      <th>직접 요리</th>\n",
       "      <td>13</td>\n",
       "      <td>70</td>\n",
       "      <td>361</td>\n",
       "      <td>215</td>\n",
       "    </tr>\n",
       "  </tbody>\n",
       "</table>\n",
       "</div>"
      ],
      "text/plain": [
       "       많이 감소  조금 감소  조금 증가  많이 증가\n",
       "외식       287    281    132     38\n",
       "배달음식      64     72    382    184\n",
       "직접 요리     13     70    361    215"
      ]
     },
     "execution_count": 8,
     "metadata": {},
     "output_type": "execute_result"
    }
   ],
   "source": [
    "dict_food = {'많이 감소':[287,64,13], '조금 감소':[281,72,70],\n",
    "                '조금 증가':[132,382,361],'많이 증가':[38,184,215]}\n",
    "df = pd.DataFrame(dict_food, index = ['외식','배달음식','직접 요리'])\n",
    "df"
   ]
  },
  {
   "cell_type": "code",
   "execution_count": 9,
   "id": "2d00054f",
   "metadata": {},
   "outputs": [
    {
     "data": {
      "image/png": "[encoded data removed]",
      "text/plain": [
       "<Figure size 936x360 with 1 Axes>"
      ]
     },
     "metadata": {
      "needs_background": "light"
     },
     "output_type": "display_data"
    }
   ],
   "source": [
    "bar = df[::-1].plot.barh(stacked=True, figsize=(13,5), alpha = 0.5, width = 0.5)\n",
    "\n",
    "for rect in bar.patches:\n",
    " \n",
    "    height = rect.get_height()\n",
    "    width = rect.get_width()\n",
    "    x = rect.get_x()\n",
    "    y = rect.get_y()\n",
    "\n",
    "    label_text = f'{width:.0f}'\n",
    "     \n",
    "    label_x = x + width / 2\n",
    "    label_y = y + height / 2\n",
    "    if width > 0:\n",
    "        bar.text(label_x, label_y, label_text, ha='center', va='center', fontsize=13 )\n",
    "        \n",
    "plt.xlim(0, 800)\n",
    "plt.title('코로나19로 인한 식변화')\n",
    "plt.show()"
   ]
  },
  {
   "cell_type": "code",
   "execution_count": 63,
   "id": "b71f199e",
   "metadata": {},
   "outputs": [
    {
     "data": {
      "text/plain": [
       "SQ2  Q1_3\n",
       "1    1       146\n",
       "     2       147\n",
       "     3       154\n",
       "     4        50\n",
       "     5        11\n",
       "     9         1\n",
       "2    1       141\n",
       "     2       134\n",
       "     3       105\n",
       "     4        82\n",
       "     5        27\n",
       "     9         2\n",
       "dtype: int64"
      ]
     },
     "execution_count": 63,
     "metadata": {},
     "output_type": "execute_result"
    }
   ],
   "source": [
    "d1=data[['SQ2','Q1_3']]\n",
    "d2=d1.value_counts().sort_index()\n",
    "d2"
   ]
  },
  {
   "cell_type": "code",
   "execution_count": 64,
   "id": "b7a60315",
   "metadata": {},
   "outputs": [
    {
     "data": {
      "text/html": [
       "<div>\n",
       "<style scoped>\n",
       "    .dataframe tbody tr th:only-of-type {\n",
       "        vertical-align: middle;\n",
       "    }\n",
       "\n",
       "    .dataframe tbody tr th {\n",
       "        vertical-align: top;\n",
       "    }\n",
       "\n",
       "    .dataframe thead th {\n",
       "        text-align: right;\n",
       "    }\n",
       "</style>\n",
       "<table border=\"1\" class=\"dataframe\">\n",
       "  <thead>\n",
       "    <tr style=\"text-align: right;\">\n",
       "      <th></th>\n",
       "      <th>많이 감소</th>\n",
       "      <th>조금 감소</th>\n",
       "      <th>조금 증가</th>\n",
       "      <th>많이 증가</th>\n",
       "    </tr>\n",
       "  </thead>\n",
       "  <tbody>\n",
       "    <tr>\n",
       "      <th>남성</th>\n",
       "      <td>146</td>\n",
       "      <td>147</td>\n",
       "      <td>50</td>\n",
       "      <td>11</td>\n",
       "    </tr>\n",
       "    <tr>\n",
       "      <th>여성</th>\n",
       "      <td>141</td>\n",
       "      <td>134</td>\n",
       "      <td>82</td>\n",
       "      <td>27</td>\n",
       "    </tr>\n",
       "  </tbody>\n",
       "</table>\n",
       "</div>"
      ],
      "text/plain": [
       "    많이 감소  조금 감소  조금 증가  많이 증가\n",
       "남성    146    147     50     11\n",
       "여성    141    134     82     27"
      ]
     },
     "execution_count": 64,
     "metadata": {},
     "output_type": "execute_result"
    }
   ],
   "source": [
    "dict_food = {'많이 감소':[146,141], '조금 감소':[147,134],'조금 증가':[50,82],'많이 증가':[11,27]}\n",
    "df = pd.DataFrame(dict_food, index = ['남성','여성'])\n",
    "df"
   ]
  },
  {
   "cell_type": "code",
   "execution_count": 65,
   "id": "e675513a",
   "metadata": {},
   "outputs": [
    {
     "data": {
      "image/png": "[encoded data removed]",
      "text/plain": [
       "<Figure size 720x360 with 1 Axes>"
      ]
     },
     "metadata": {
      "needs_background": "light"
     },
     "output_type": "display_data"
    }
   ],
   "source": [
    "bar = df[::-1].plot.barh(stacked=True, figsize=(10,5), alpha = 0.5, width = 0.5)\n",
    "\n",
    "for rect in bar.patches:\n",
    " \n",
    "    height = rect.get_height()\n",
    "    width = rect.get_width()\n",
    "    x = rect.get_x()\n",
    "    y = rect.get_y()\n",
    "\n",
    "    label_text = f'{width:.0f}'\n",
    "     \n",
    "    label_x = x + width / 2\n",
    "    label_y = y + height / 2\n",
    "    if width > 0:\n",
    "        bar.text(label_x, label_y, label_text, ha='center', va='center', fontsize=13 )\n",
    "        \n",
    "plt.xlim(0, 450)\n",
    "plt.title('성별에 따른 외식 변화')\n",
    "\n",
    "plt.show()"
   ]
  },
  {
   "cell_type": "code",
   "execution_count": 66,
   "id": "cfbff9cd",
   "metadata": {},
   "outputs": [
    {
     "data": {
      "text/plain": [
       "SQ2  Q1_4\n",
       "1    1        26\n",
       "     2        33\n",
       "     3       144\n",
       "     4       202\n",
       "     5        89\n",
       "     9        15\n",
       "2    1        38\n",
       "     2        39\n",
       "     3       125\n",
       "     4       180\n",
       "     5        95\n",
       "     9        14\n",
       "dtype: int64"
      ]
     },
     "execution_count": 66,
     "metadata": {},
     "output_type": "execute_result"
    }
   ],
   "source": [
    "d1=data[['SQ2','Q1_4']]\n",
    "d2=d1.value_counts().sort_index()\n",
    "d2"
   ]
  },
  {
   "cell_type": "code",
   "execution_count": 67,
   "id": "656f39bb",
   "metadata": {},
   "outputs": [
    {
     "data": {
      "text/html": [
       "<div>\n",
       "<style scoped>\n",
       "    .dataframe tbody tr th:only-of-type {\n",
       "        vertical-align: middle;\n",
       "    }\n",
       "\n",
       "    .dataframe tbody tr th {\n",
       "        vertical-align: top;\n",
       "    }\n",
       "\n",
       "    .dataframe thead th {\n",
       "        text-align: right;\n",
       "    }\n",
       "</style>\n",
       "<table border=\"1\" class=\"dataframe\">\n",
       "  <thead>\n",
       "    <tr style=\"text-align: right;\">\n",
       "      <th></th>\n",
       "      <th>많이 감소</th>\n",
       "      <th>조금 감소</th>\n",
       "      <th>조금 증가</th>\n",
       "      <th>많이 증가</th>\n",
       "    </tr>\n",
       "  </thead>\n",
       "  <tbody>\n",
       "    <tr>\n",
       "      <th>남성</th>\n",
       "      <td>26</td>\n",
       "      <td>33</td>\n",
       "      <td>202</td>\n",
       "      <td>89</td>\n",
       "    </tr>\n",
       "    <tr>\n",
       "      <th>여성</th>\n",
       "      <td>38</td>\n",
       "      <td>39</td>\n",
       "      <td>180</td>\n",
       "      <td>95</td>\n",
       "    </tr>\n",
       "  </tbody>\n",
       "</table>\n",
       "</div>"
      ],
      "text/plain": [
       "    많이 감소  조금 감소  조금 증가  많이 증가\n",
       "남성     26     33    202     89\n",
       "여성     38     39    180     95"
      ]
     },
     "execution_count": 67,
     "metadata": {},
     "output_type": "execute_result"
    }
   ],
   "source": [
    "dict_food = {'많이 감소':[26,38], '조금 감소':[33,39],'조금 증가':[202,180],'많이 증가':[89,95]}\n",
    "df = pd.DataFrame(dict_food, index = ['남성','여성'])\n",
    "df"
   ]
  },
  {
   "cell_type": "code",
   "execution_count": 68,
   "id": "e2ed2238",
   "metadata": {},
   "outputs": [
    {
     "data": {
      "image/png": "[encoded data removed]",
      "text/plain": [
       "<Figure size 720x360 with 1 Axes>"
      ]
     },
     "metadata": {
      "needs_background": "light"
     },
     "output_type": "display_data"
    }
   ],
   "source": [
    "bar = df[::-1].plot.barh(stacked=True, figsize=(10,5), alpha = 0.5, width = 0.5)\n",
    "\n",
    "for rect in bar.patches:\n",
    " \n",
    "    height = rect.get_height()\n",
    "    width = rect.get_width()\n",
    "    x = rect.get_x()\n",
    "    y = rect.get_y()\n",
    "\n",
    "    label_text = f'{width:.0f}'\n",
    "     \n",
    "    label_x = x + width / 2\n",
    "    label_y = y + height / 2\n",
    "    if width > 0:\n",
    "        bar.text(label_x, label_y, label_text, ha='center', va='center', fontsize=13 )\n",
    "        \n",
    "plt.xlim(0, 450)\n",
    "plt.title('성별에 따른 배달음식 변화')\n",
    "\n",
    "plt.show()"
   ]
  },
  {
   "cell_type": "code",
   "execution_count": 69,
   "id": "6d604494",
   "metadata": {},
   "outputs": [
    {
     "data": {
      "text/plain": [
       "SQ2  Q1_5\n",
       "1    1         7\n",
       "     2        33\n",
       "     3       174\n",
       "     4       199\n",
       "     5        87\n",
       "     9         9\n",
       "2    1         6\n",
       "     2        37\n",
       "     3       155\n",
       "     4       162\n",
       "     5       128\n",
       "     9         3\n",
       "dtype: int64"
      ]
     },
     "execution_count": 69,
     "metadata": {},
     "output_type": "execute_result"
    }
   ],
   "source": [
    "d1=data[['SQ2','Q1_5']]\n",
    "d2=d1.value_counts().sort_index()\n",
    "d2"
   ]
  },
  {
   "cell_type": "code",
   "execution_count": 70,
   "id": "b5ffa8fb",
   "metadata": {},
   "outputs": [
    {
     "data": {
      "text/html": [
       "<div>\n",
       "<style scoped>\n",
       "    .dataframe tbody tr th:only-of-type {\n",
       "        vertical-align: middle;\n",
       "    }\n",
       "\n",
       "    .dataframe tbody tr th {\n",
       "        vertical-align: top;\n",
       "    }\n",
       "\n",
       "    .dataframe thead th {\n",
       "        text-align: right;\n",
       "    }\n",
       "</style>\n",
       "<table border=\"1\" class=\"dataframe\">\n",
       "  <thead>\n",
       "    <tr style=\"text-align: right;\">\n",
       "      <th></th>\n",
       "      <th>많이 감소</th>\n",
       "      <th>조금 감소</th>\n",
       "      <th>조금 증가</th>\n",
       "      <th>많이 증가</th>\n",
       "    </tr>\n",
       "  </thead>\n",
       "  <tbody>\n",
       "    <tr>\n",
       "      <th>남성</th>\n",
       "      <td>7</td>\n",
       "      <td>33</td>\n",
       "      <td>199</td>\n",
       "      <td>87</td>\n",
       "    </tr>\n",
       "    <tr>\n",
       "      <th>여성</th>\n",
       "      <td>6</td>\n",
       "      <td>37</td>\n",
       "      <td>162</td>\n",
       "      <td>128</td>\n",
       "    </tr>\n",
       "  </tbody>\n",
       "</table>\n",
       "</div>"
      ],
      "text/plain": [
       "    많이 감소  조금 감소  조금 증가  많이 증가\n",
       "남성      7     33    199     87\n",
       "여성      6     37    162    128"
      ]
     },
     "execution_count": 70,
     "metadata": {},
     "output_type": "execute_result"
    }
   ],
   "source": [
    "dict_food = {'많이 감소':[7,6], '조금 감소':[33,37],'조금 증가':[199,162],'많이 증가':[87,128]}\n",
    "df = pd.DataFrame(dict_food, index = ['남성','여성'])\n",
    "df"
   ]
  },
  {
   "cell_type": "code",
   "execution_count": 71,
   "id": "bf7338d1",
   "metadata": {},
   "outputs": [
    {
     "data": {
      "image/png": "[encoded data removed]",
      "text/plain": [
       "<Figure size 720x360 with 1 Axes>"
      ]
     },
     "metadata": {
      "needs_background": "light"
     },
     "output_type": "display_data"
    }
   ],
   "source": [
    "bar = df[::-1].plot.barh(stacked=True, figsize=(10,5), alpha = 0.5, width = 0.5)\n",
    "\n",
    "for rect in bar.patches:\n",
    " \n",
    "    height = rect.get_height()\n",
    "    width = rect.get_width()\n",
    "    x = rect.get_x()\n",
    "    y = rect.get_y()\n",
    "\n",
    "    label_text = f'{width:.0f}'\n",
    "     \n",
    "    label_x = x + width / 2\n",
    "    label_y = y + height / 2\n",
    "    if width > 0:\n",
    "        bar.text(label_x, label_y, label_text, ha='center', va='center', fontsize=13 )\n",
    "        \n",
    "plt.xlim(0, 400)\n",
    "plt.title('성별에 따른 직접 요리 변화')\n",
    "\n",
    "plt.show()"
   ]
  }
 ],
 "metadata": {
  "kernelspec": {
   "display_name": "Python 3 (ipykernel)",
   "language": "python",
   "name": "python3"
  },
  "language_info": {
   "codemirror_mode": {
    "name": "ipython",
    "version": 3
   },
   "file_extension": ".py",
   "mimetype": "text/x-python",
   "name": "python",
   "nbconvert_exporter": "python",
   "pygments_lexer": "ipython3",
   "version": "3.9.7"
  }
 },
 "nbformat": 4,
 "nbformat_minor": 5
}
