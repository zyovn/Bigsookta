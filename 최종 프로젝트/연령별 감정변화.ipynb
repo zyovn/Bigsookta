{
 "cells": [
  {
   "cell_type": "code",
   "execution_count": 1,
   "id": "1d72e7cb",
   "metadata": {},
   "outputs": [],
   "source": [
    "%matplotlib inline\n",
    "import pandas as pd\n",
    "import seaborn as sns\n",
    "import matplotlib.pyplot as plt\n",
    "import numpy as np"
   ]
  },
  {
   "cell_type": "code",
   "execution_count": 2,
   "id": "1038fc01",
   "metadata": {},
   "outputs": [
    {
     "name": "stdout",
     "output_type": "stream",
     "text": [
      "['NanumGothic']\n"
     ]
    }
   ],
   "source": [
    "plt.rc('font' , family = 'NanumGothic')\n",
    "print(plt.rcParams['font.family'])"
   ]
  },
  {
   "cell_type": "code",
   "execution_count": 3,
   "id": "100ae253",
   "metadata": {},
   "outputs": [],
   "source": [
    "data = pd.read_excel('C:/Users/i5-8250U/Desktop/빅숙타/코로나19 이후 국민의 일상 변화 원본 데이터.xlsx')"
   ]
  },
  {
   "cell_type": "code",
   "execution_count": 4,
   "id": "be7ed2f5",
   "metadata": {},
   "outputs": [
    {
     "data": {
      "text/html": [
       "<div>\n",
       "<style scoped>\n",
       "    .dataframe tbody tr th:only-of-type {\n",
       "        vertical-align: middle;\n",
       "    }\n",
       "\n",
       "    .dataframe tbody tr th {\n",
       "        vertical-align: top;\n",
       "    }\n",
       "\n",
       "    .dataframe thead th {\n",
       "        text-align: right;\n",
       "    }\n",
       "</style>\n",
       "<table border=\"1\" class=\"dataframe\">\n",
       "  <thead>\n",
       "    <tr style=\"text-align: right;\">\n",
       "      <th></th>\n",
       "      <th>많이 감소</th>\n",
       "      <th>조금 감소</th>\n",
       "      <th>변화 없음</th>\n",
       "      <th>조금 증가</th>\n",
       "      <th>많이 증가</th>\n",
       "    </tr>\n",
       "  </thead>\n",
       "  <tbody>\n",
       "    <tr>\n",
       "      <th>불안 또는 두려움</th>\n",
       "      <td>5</td>\n",
       "      <td>39</td>\n",
       "      <td>302</td>\n",
       "      <td>487</td>\n",
       "      <td>167</td>\n",
       "    </tr>\n",
       "    <tr>\n",
       "      <th>무기력감 또는 좌절감</th>\n",
       "      <td>4</td>\n",
       "      <td>42</td>\n",
       "      <td>430</td>\n",
       "      <td>413</td>\n",
       "      <td>111</td>\n",
       "    </tr>\n",
       "    <tr>\n",
       "      <th>짜증 또는 화</th>\n",
       "      <td>4</td>\n",
       "      <td>33</td>\n",
       "      <td>355</td>\n",
       "      <td>476</td>\n",
       "      <td>132</td>\n",
       "    </tr>\n",
       "    <tr>\n",
       "      <th>특정 대상을 향한 분노 또는 혐오</th>\n",
       "      <td>9</td>\n",
       "      <td>31</td>\n",
       "      <td>365</td>\n",
       "      <td>379</td>\n",
       "      <td>216</td>\n",
       "    </tr>\n",
       "    <tr>\n",
       "      <th>감사함 또는 안도감</th>\n",
       "      <td>63</td>\n",
       "      <td>183</td>\n",
       "      <td>461</td>\n",
       "      <td>254</td>\n",
       "      <td>39</td>\n",
       "    </tr>\n",
       "    <tr>\n",
       "      <th>걱정 또는 스트레스</th>\n",
       "      <td>1</td>\n",
       "      <td>29</td>\n",
       "      <td>190</td>\n",
       "      <td>565</td>\n",
       "      <td>215</td>\n",
       "    </tr>\n",
       "    <tr>\n",
       "      <th>외로움 또는 우울감</th>\n",
       "      <td>3</td>\n",
       "      <td>29</td>\n",
       "      <td>504</td>\n",
       "      <td>386</td>\n",
       "      <td>78</td>\n",
       "    </tr>\n",
       "    <tr>\n",
       "      <th>국가나 사회에 대한 자부심 혹은 자긍심</th>\n",
       "      <td>103</td>\n",
       "      <td>140</td>\n",
       "      <td>403</td>\n",
       "      <td>273</td>\n",
       "      <td>81</td>\n",
       "    </tr>\n",
       "  </tbody>\n",
       "</table>\n",
       "</div>"
      ],
      "text/plain": [
       "                       많이 감소  조금 감소  변화 없음  조금 증가  많이 증가\n",
       "불안 또는 두려움                  5     39    302    487    167\n",
       "무기력감 또는 좌절감                4     42    430    413    111\n",
       "짜증 또는 화                    4     33    355    476    132\n",
       "특정 대상을 향한 분노 또는 혐오         9     31    365    379    216\n",
       "감사함 또는 안도감                63    183    461    254     39\n",
       "걱정 또는 스트레스                 1     29    190    565    215\n",
       "외로움 또는 우울감                 3     29    504    386     78\n",
       "국가나 사회에 대한 자부심 혹은 자긍심    103    140    403    273     81"
      ]
     },
     "execution_count": 4,
     "metadata": {},
     "output_type": "execute_result"
    }
   ],
   "source": [
    "dict_emotion = {'많이 감소':[5,4,4,9,63,1,3,103], '조금 감소':[39,42,33,31,183,29,29,140],'변화 없음':[302,430,355,365,461,190,504,403],\n",
    "                '조금 증가':[487,413,476,379,254,565,386,273],'많이 증가':[167,111,132,216,39,215,78,81]}\n",
    "df = pd.DataFrame(dict_emotion, index = ['불안 또는 두려움','무기력감 또는 좌절감','짜증 또는 화','특정 대상을 향한 분노 또는 혐오','감사함 또는 안도감','걱정 또는 스트레스','외로움 또는 우울감','국가나 사회에 대한 자부심 혹은 자긍심'])\n",
    "df"
   ]
  },
  {
   "cell_type": "code",
   "execution_count": 5,
   "id": "53ace388",
   "metadata": {},
   "outputs": [
    {
     "data": {
      "image/png": "[encoded data removed]",
      "text/plain": [
       "<Figure size 720x432 with 1 Axes>"
      ]
     },
     "metadata": {
      "needs_background": "light"
     },
     "output_type": "display_data"
    }
   ],
   "source": [
    "bar = df.plot.barh(stacked=True, figsize=(10,6), alpha = 0.5, width = 0.5)\n",
    "\n",
    "plt.show()"
   ]
  },
  {
   "cell_type": "code",
   "execution_count": 6,
   "id": "b96dc5e3",
   "metadata": {},
   "outputs": [
    {
     "data": {
      "image/png": "[encoded data removed]",
      "text/plain": [
       "<Figure size 1080x432 with 1 Axes>"
      ]
     },
     "metadata": {
      "needs_background": "light"
     },
     "output_type": "display_data"
    }
   ],
   "source": [
    "bar = df[::-1].plot.barh(stacked=True, figsize=(15,6), alpha = 0.5, width = 0.5)\n",
    "\n",
    "for rect in bar.patches:\n",
    " \n",
    "    height = rect.get_height()\n",
    "    width = rect.get_width()\n",
    "    x = rect.get_x()\n",
    "    y = rect.get_y()\n",
    "\n",
    "    label_text = f'{width:.0f}'\n",
    "     \n",
    "    label_x = x + width / 2\n",
    "    label_y = y + height / 2\n",
    "    if width > 0:\n",
    "        bar.text(label_x, label_y, label_text, ha='center', va='center', fontsize=12)\n",
    "\n",
    "plt.xlim(0, 1120)\n",
    "plt.title('코로나19로 인한 감정변화')\n",
    "\n",
    "plt.show()"
   ]
  },
  {
   "cell_type": "code",
   "execution_count": 9,
   "id": "0cc4457b",
   "metadata": {},
   "outputs": [
    {
     "data": {
      "text/plain": [
       "SQ3_R  Q13_1\n",
       "2      1          3\n",
       "       2          5\n",
       "       3         59\n",
       "       4         91\n",
       "       5         35\n",
       "3      1          1\n",
       "       2          9\n",
       "       3         55\n",
       "       4         93\n",
       "       5         28\n",
       "4      2         12\n",
       "       3         57\n",
       "       4        120\n",
       "       5         32\n",
       "5      2          9\n",
       "       3         72\n",
       "       4        114\n",
       "       5         40\n",
       "6      1          1\n",
       "       2          4\n",
       "       3         59\n",
       "       4         69\n",
       "       5         32\n",
       "dtype: int64"
      ]
     },
     "execution_count": 9,
     "metadata": {},
     "output_type": "execute_result"
    }
   ],
   "source": [
    "p1=data[['SQ3_R','Q13_1']]\n",
    "p2=p1.value_counts().sort_index()\n",
    "p2"
   ]
  },
  {
   "cell_type": "code",
   "execution_count": 10,
   "id": "d36cb49b",
   "metadata": {},
   "outputs": [
    {
     "data": {
      "text/html": [
       "<div>\n",
       "<style scoped>\n",
       "    .dataframe tbody tr th:only-of-type {\n",
       "        vertical-align: middle;\n",
       "    }\n",
       "\n",
       "    .dataframe tbody tr th {\n",
       "        vertical-align: top;\n",
       "    }\n",
       "\n",
       "    .dataframe thead th {\n",
       "        text-align: right;\n",
       "    }\n",
       "</style>\n",
       "<table border=\"1\" class=\"dataframe\">\n",
       "  <thead>\n",
       "    <tr style=\"text-align: right;\">\n",
       "      <th></th>\n",
       "      <th>많이 감소</th>\n",
       "      <th>조금 감소</th>\n",
       "      <th>조금 증가</th>\n",
       "      <th>많이 증가</th>\n",
       "    </tr>\n",
       "  </thead>\n",
       "  <tbody>\n",
       "    <tr>\n",
       "      <th>19~20대</th>\n",
       "      <td>3</td>\n",
       "      <td>5</td>\n",
       "      <td>91</td>\n",
       "      <td>35</td>\n",
       "    </tr>\n",
       "    <tr>\n",
       "      <th>30대</th>\n",
       "      <td>1</td>\n",
       "      <td>9</td>\n",
       "      <td>93</td>\n",
       "      <td>28</td>\n",
       "    </tr>\n",
       "    <tr>\n",
       "      <th>40대</th>\n",
       "      <td>0</td>\n",
       "      <td>12</td>\n",
       "      <td>120</td>\n",
       "      <td>32</td>\n",
       "    </tr>\n",
       "    <tr>\n",
       "      <th>50대</th>\n",
       "      <td>0</td>\n",
       "      <td>9</td>\n",
       "      <td>114</td>\n",
       "      <td>40</td>\n",
       "    </tr>\n",
       "    <tr>\n",
       "      <th>60대</th>\n",
       "      <td>1</td>\n",
       "      <td>4</td>\n",
       "      <td>69</td>\n",
       "      <td>32</td>\n",
       "    </tr>\n",
       "  </tbody>\n",
       "</table>\n",
       "</div>"
      ],
      "text/plain": [
       "        많이 감소  조금 감소  조금 증가  많이 증가\n",
       "19~20대      3      5     91     35\n",
       "30대         1      9     93     28\n",
       "40대         0     12    120     32\n",
       "50대         0      9    114     40\n",
       "60대         1      4     69     32"
      ]
     },
     "execution_count": 10,
     "metadata": {},
     "output_type": "execute_result"
    }
   ],
   "source": [
    "dict_emotion = {'많이 감소':[3,1,0,0,1],'조금 감소':[5,9,12,9,4],'조금 증가':[91,93,120,114,69],'많이 증가':[35,28,32,40,32]}\n",
    "df = pd.DataFrame(dict_emotion, index = ['19~20대','30대','40대','50대','60대'])\n",
    "df"
   ]
  },
  {
   "cell_type": "code",
   "execution_count": 13,
   "id": "74757f93",
   "metadata": {},
   "outputs": [
    {
     "data": {
      "image/png": "[encoded data removed]",
      "text/plain": [
       "<Figure size 720x432 with 1 Axes>"
      ]
     },
     "metadata": {
      "needs_background": "light"
     },
     "output_type": "display_data"
    }
   ],
   "source": [
    "bar = df[::-1].plot.barh(stacked=True, figsize=(10,6), alpha = 0.5, width = 0.5)\n",
    "\n",
    "for rect in bar.patches:\n",
    " \n",
    "    height = rect.get_height()\n",
    "    width = rect.get_width()\n",
    "    x = rect.get_x()\n",
    "    y = rect.get_y()\n",
    "\n",
    "    label_text = f'{width:.0f}'\n",
    "     \n",
    "    label_x = x + width / 2\n",
    "    label_y = y + height / 2\n",
    "    if width > 0:\n",
    "        bar.text(label_x, label_y, label_text, ha='center', va='center', fontsize=12)\n",
    "\n",
    "plt.xlim(0, 200)\n",
    "plt.title('불안 또는 두려움')\n",
    "\n",
    "plt.show()"
   ]
  },
  {
   "cell_type": "code",
   "execution_count": 14,
   "id": "b0161f2e",
   "metadata": {},
   "outputs": [
    {
     "data": {
      "text/plain": [
       "SQ3_R  Q13_2\n",
       "2      1          2\n",
       "       2          9\n",
       "       3         76\n",
       "       4         86\n",
       "       5         20\n",
       "3      1          1\n",
       "       2          6\n",
       "       3         90\n",
       "       4         68\n",
       "       5         21\n",
       "4      2          9\n",
       "       3         89\n",
       "       4         96\n",
       "       5         27\n",
       "5      2         11\n",
       "       3        100\n",
       "       4         98\n",
       "       5         26\n",
       "6      1          1\n",
       "       2          7\n",
       "       3         75\n",
       "       4         65\n",
       "       5         17\n",
       "dtype: int64"
      ]
     },
     "execution_count": 14,
     "metadata": {},
     "output_type": "execute_result"
    }
   ],
   "source": [
    "p1=data[['SQ3_R','Q13_2']]\n",
    "p2=p1.value_counts().sort_index()\n",
    "p2"
   ]
  },
  {
   "cell_type": "code",
   "execution_count": 16,
   "id": "eeb18237",
   "metadata": {},
   "outputs": [
    {
     "data": {
      "text/html": [
       "<div>\n",
       "<style scoped>\n",
       "    .dataframe tbody tr th:only-of-type {\n",
       "        vertical-align: middle;\n",
       "    }\n",
       "\n",
       "    .dataframe tbody tr th {\n",
       "        vertical-align: top;\n",
       "    }\n",
       "\n",
       "    .dataframe thead th {\n",
       "        text-align: right;\n",
       "    }\n",
       "</style>\n",
       "<table border=\"1\" class=\"dataframe\">\n",
       "  <thead>\n",
       "    <tr style=\"text-align: right;\">\n",
       "      <th></th>\n",
       "      <th>많이 감소</th>\n",
       "      <th>조금 감소</th>\n",
       "      <th>조금 증가</th>\n",
       "      <th>많이 증가</th>\n",
       "    </tr>\n",
       "  </thead>\n",
       "  <tbody>\n",
       "    <tr>\n",
       "      <th>19~20대</th>\n",
       "      <td>2</td>\n",
       "      <td>9</td>\n",
       "      <td>86</td>\n",
       "      <td>20</td>\n",
       "    </tr>\n",
       "    <tr>\n",
       "      <th>30대</th>\n",
       "      <td>1</td>\n",
       "      <td>6</td>\n",
       "      <td>68</td>\n",
       "      <td>21</td>\n",
       "    </tr>\n",
       "    <tr>\n",
       "      <th>40대</th>\n",
       "      <td>0</td>\n",
       "      <td>9</td>\n",
       "      <td>96</td>\n",
       "      <td>27</td>\n",
       "    </tr>\n",
       "    <tr>\n",
       "      <th>50대</th>\n",
       "      <td>0</td>\n",
       "      <td>11</td>\n",
       "      <td>98</td>\n",
       "      <td>26</td>\n",
       "    </tr>\n",
       "    <tr>\n",
       "      <th>60대</th>\n",
       "      <td>1</td>\n",
       "      <td>7</td>\n",
       "      <td>65</td>\n",
       "      <td>17</td>\n",
       "    </tr>\n",
       "  </tbody>\n",
       "</table>\n",
       "</div>"
      ],
      "text/plain": [
       "        많이 감소  조금 감소  조금 증가  많이 증가\n",
       "19~20대      2      9     86     20\n",
       "30대         1      6     68     21\n",
       "40대         0      9     96     27\n",
       "50대         0     11     98     26\n",
       "60대         1      7     65     17"
      ]
     },
     "execution_count": 16,
     "metadata": {},
     "output_type": "execute_result"
    }
   ],
   "source": [
    "dict_emotion = {'많이 감소':[2,1,0,0,1],'조금 감소':[9,6,9,11,7],'조금 증가':[86,68,96,98,65],'많이 증가':[20,21,27,26,17]}\n",
    "df = pd.DataFrame(dict_emotion, index = ['19~20대','30대','40대','50대','60대'])\n",
    "df"
   ]
  },
  {
   "cell_type": "code",
   "execution_count": 19,
   "id": "1ff57ac3",
   "metadata": {},
   "outputs": [
    {
     "data": {
      "image/png": "[encoded data removed]",
      "text/plain": [
       "<Figure size 720x432 with 1 Axes>"
      ]
     },
     "metadata": {
      "needs_background": "light"
     },
     "output_type": "display_data"
    }
   ],
   "source": [
    "bar = df[::-1].plot.barh(stacked=True, figsize=(10,6), alpha = 0.5, width = 0.5)\n",
    "\n",
    "for rect in bar.patches:\n",
    " \n",
    "    height = rect.get_height()\n",
    "    width = rect.get_width()\n",
    "    x = rect.get_x()\n",
    "    y = rect.get_y()\n",
    "\n",
    "    label_text = f'{width:.0f}'\n",
    "     \n",
    "    label_x = x + width / 2\n",
    "    label_y = y + height / 2\n",
    "    if width > 0:\n",
    "        bar.text(label_x, label_y, label_text, ha='center', va='center', fontsize=12)\n",
    "\n",
    "plt.xlim(0, 150)\n",
    "plt.title('무기력감 또는 좌절감')\n",
    "\n",
    "plt.show()"
   ]
  },
  {
   "cell_type": "code",
   "execution_count": 20,
   "id": "76839903",
   "metadata": {},
   "outputs": [
    {
     "data": {
      "text/plain": [
       "SQ3_R  Q13_3\n",
       "2      2         10\n",
       "       3         78\n",
       "       4         78\n",
       "       5         27\n",
       "3      1          1\n",
       "       2          4\n",
       "       3         65\n",
       "       4         80\n",
       "       5         36\n",
       "4      2          7\n",
       "       3         81\n",
       "       4        107\n",
       "       5         26\n",
       "5      1          1\n",
       "       2          5\n",
       "       3         70\n",
       "       4        138\n",
       "       5         21\n",
       "6      1          2\n",
       "       2          7\n",
       "       3         61\n",
       "       4         73\n",
       "       5         22\n",
       "dtype: int64"
      ]
     },
     "execution_count": 20,
     "metadata": {},
     "output_type": "execute_result"
    }
   ],
   "source": [
    "p1=data[['SQ3_R','Q13_3']]\n",
    "p2=p1.value_counts().sort_index()\n",
    "p2"
   ]
  },
  {
   "cell_type": "code",
   "execution_count": 21,
   "id": "40502630",
   "metadata": {},
   "outputs": [
    {
     "data": {
      "text/html": [
       "<div>\n",
       "<style scoped>\n",
       "    .dataframe tbody tr th:only-of-type {\n",
       "        vertical-align: middle;\n",
       "    }\n",
       "\n",
       "    .dataframe tbody tr th {\n",
       "        vertical-align: top;\n",
       "    }\n",
       "\n",
       "    .dataframe thead th {\n",
       "        text-align: right;\n",
       "    }\n",
       "</style>\n",
       "<table border=\"1\" class=\"dataframe\">\n",
       "  <thead>\n",
       "    <tr style=\"text-align: right;\">\n",
       "      <th></th>\n",
       "      <th>많이 감소</th>\n",
       "      <th>조금 감소</th>\n",
       "      <th>조금 증가</th>\n",
       "      <th>많이 증가</th>\n",
       "    </tr>\n",
       "  </thead>\n",
       "  <tbody>\n",
       "    <tr>\n",
       "      <th>19~20대</th>\n",
       "      <td>0</td>\n",
       "      <td>10</td>\n",
       "      <td>78</td>\n",
       "      <td>27</td>\n",
       "    </tr>\n",
       "    <tr>\n",
       "      <th>30대</th>\n",
       "      <td>1</td>\n",
       "      <td>4</td>\n",
       "      <td>80</td>\n",
       "      <td>36</td>\n",
       "    </tr>\n",
       "    <tr>\n",
       "      <th>40대</th>\n",
       "      <td>0</td>\n",
       "      <td>7</td>\n",
       "      <td>107</td>\n",
       "      <td>26</td>\n",
       "    </tr>\n",
       "    <tr>\n",
       "      <th>50대</th>\n",
       "      <td>1</td>\n",
       "      <td>5</td>\n",
       "      <td>138</td>\n",
       "      <td>21</td>\n",
       "    </tr>\n",
       "    <tr>\n",
       "      <th>60대</th>\n",
       "      <td>2</td>\n",
       "      <td>7</td>\n",
       "      <td>73</td>\n",
       "      <td>22</td>\n",
       "    </tr>\n",
       "  </tbody>\n",
       "</table>\n",
       "</div>"
      ],
      "text/plain": [
       "        많이 감소  조금 감소  조금 증가  많이 증가\n",
       "19~20대      0     10     78     27\n",
       "30대         1      4     80     36\n",
       "40대         0      7    107     26\n",
       "50대         1      5    138     21\n",
       "60대         2      7     73     22"
      ]
     },
     "execution_count": 21,
     "metadata": {},
     "output_type": "execute_result"
    }
   ],
   "source": [
    "dict_emotion = {'많이 감소':[0,1,0,1,2],'조금 감소':[10,4,7,5,7],'조금 증가':[78,80,107,138,73],'많이 증가':[27,36,26,21,22]}\n",
    "df = pd.DataFrame(dict_emotion, index = ['19~20대','30대','40대','50대','60대'])\n",
    "df"
   ]
  },
  {
   "cell_type": "code",
   "execution_count": 24,
   "id": "283d8a26",
   "metadata": {},
   "outputs": [
    {
     "data": {
      "image/png": "[encoded data removed]",
      "text/plain": [
       "<Figure size 720x432 with 1 Axes>"
      ]
     },
     "metadata": {
      "needs_background": "light"
     },
     "output_type": "display_data"
    }
   ],
   "source": [
    "bar = df[::-1].plot.barh(stacked=True, figsize=(10,6), alpha = 0.5, width = 0.5)\n",
    "\n",
    "for rect in bar.patches:\n",
    " \n",
    "    height = rect.get_height()\n",
    "    width = rect.get_width()\n",
    "    x = rect.get_x()\n",
    "    y = rect.get_y()\n",
    "\n",
    "    label_text = f'{width:.0f}'\n",
    "     \n",
    "    label_x = x + width / 2\n",
    "    label_y = y + height / 2\n",
    "    if width > 0:\n",
    "        bar.text(label_x, label_y, label_text, ha='center', va='center', fontsize=12)\n",
    "\n",
    "plt.xlim(0, 200)\n",
    "plt.title('짜증 또는 화')\n",
    "\n",
    "plt.show()"
   ]
  },
  {
   "cell_type": "code",
   "execution_count": 25,
   "id": "eef30bf1",
   "metadata": {},
   "outputs": [
    {
     "data": {
      "text/plain": [
       "SQ3_R  Q13_4\n",
       "2      1          4\n",
       "       2         10\n",
       "       3         74\n",
       "       4         70\n",
       "       5         35\n",
       "3      2          8\n",
       "       3         68\n",
       "       4         55\n",
       "       5         55\n",
       "4      1          2\n",
       "       2          7\n",
       "       3         84\n",
       "       4         91\n",
       "       5         37\n",
       "5      1          1\n",
       "       2          5\n",
       "       3         77\n",
       "       4        108\n",
       "       5         44\n",
       "6      1          2\n",
       "       2          1\n",
       "       3         62\n",
       "       4         55\n",
       "       5         45\n",
       "dtype: int64"
      ]
     },
     "execution_count": 25,
     "metadata": {},
     "output_type": "execute_result"
    }
   ],
   "source": [
    "p1=data[['SQ3_R','Q13_4']]\n",
    "p2=p1.value_counts().sort_index()\n",
    "p2"
   ]
  },
  {
   "cell_type": "code",
   "execution_count": 39,
   "id": "2c753984",
   "metadata": {},
   "outputs": [
    {
     "data": {
      "text/html": [
       "<div>\n",
       "<style scoped>\n",
       "    .dataframe tbody tr th:only-of-type {\n",
       "        vertical-align: middle;\n",
       "    }\n",
       "\n",
       "    .dataframe tbody tr th {\n",
       "        vertical-align: top;\n",
       "    }\n",
       "\n",
       "    .dataframe thead th {\n",
       "        text-align: right;\n",
       "    }\n",
       "</style>\n",
       "<table border=\"1\" class=\"dataframe\">\n",
       "  <thead>\n",
       "    <tr style=\"text-align: right;\">\n",
       "      <th></th>\n",
       "      <th>많이 감소</th>\n",
       "      <th>조금 감소</th>\n",
       "      <th>조금 증가</th>\n",
       "      <th>많이 증가</th>\n",
       "    </tr>\n",
       "  </thead>\n",
       "  <tbody>\n",
       "    <tr>\n",
       "      <th>19~20대</th>\n",
       "      <td>4</td>\n",
       "      <td>10</td>\n",
       "      <td>70</td>\n",
       "      <td>35</td>\n",
       "    </tr>\n",
       "    <tr>\n",
       "      <th>30대</th>\n",
       "      <td>0</td>\n",
       "      <td>8</td>\n",
       "      <td>55</td>\n",
       "      <td>55</td>\n",
       "    </tr>\n",
       "    <tr>\n",
       "      <th>40대</th>\n",
       "      <td>2</td>\n",
       "      <td>7</td>\n",
       "      <td>91</td>\n",
       "      <td>37</td>\n",
       "    </tr>\n",
       "    <tr>\n",
       "      <th>50대</th>\n",
       "      <td>1</td>\n",
       "      <td>5</td>\n",
       "      <td>108</td>\n",
       "      <td>44</td>\n",
       "    </tr>\n",
       "    <tr>\n",
       "      <th>60대</th>\n",
       "      <td>2</td>\n",
       "      <td>1</td>\n",
       "      <td>55</td>\n",
       "      <td>45</td>\n",
       "    </tr>\n",
       "  </tbody>\n",
       "</table>\n",
       "</div>"
      ],
      "text/plain": [
       "        많이 감소  조금 감소  조금 증가  많이 증가\n",
       "19~20대      4     10     70     35\n",
       "30대         0      8     55     55\n",
       "40대         2      7     91     37\n",
       "50대         1      5    108     44\n",
       "60대         2      1     55     45"
      ]
     },
     "execution_count": 39,
     "metadata": {},
     "output_type": "execute_result"
    }
   ],
   "source": [
    "dict_emotion = {'많이 감소':[4,0,2,1,2],'조금 감소':[10,8,7,5,1],'조금 증가':[70,55,91,108,55],'많이 증가':[35,55,37,44,45]}\n",
    "df = pd.DataFrame(dict_emotion, index = ['19~20대','30대','40대','50대','60대'])\n",
    "df"
   ]
  },
  {
   "cell_type": "code",
   "execution_count": 41,
   "id": "545bed6d",
   "metadata": {},
   "outputs": [
    {
     "data": {
      "image/png": "[encoded data removed]",
      "text/plain": [
       "<Figure size 720x432 with 1 Axes>"
      ]
     },
     "metadata": {
      "needs_background": "light"
     },
     "output_type": "display_data"
    }
   ],
   "source": [
    "bar = df[::-1].plot.barh(stacked=True, figsize=(10,6), alpha = 0.5, width = 0.5)\n",
    "\n",
    "for rect in bar.patches:\n",
    " \n",
    "    height = rect.get_height()\n",
    "    width = rect.get_width()\n",
    "    x = rect.get_x()\n",
    "    y = rect.get_y()\n",
    "\n",
    "    label_text = f'{width:.0f}'\n",
    "     \n",
    "    label_x = x + width / 2\n",
    "    label_y = y + height / 2\n",
    "    if width > 0:\n",
    "        bar.text(label_x, label_y, label_text, ha='center', va='center', fontsize=12)\n",
    "\n",
    "plt.xlim(0, 175)\n",
    "plt.title('특정 대상을 향한 분노 또는 혐오')\n",
    "\n",
    "plt.show()"
   ]
  },
  {
   "cell_type": "code",
   "execution_count": 29,
   "id": "f7ea25ad",
   "metadata": {},
   "outputs": [
    {
     "data": {
      "text/plain": [
       "SQ3_R  Q13_5\n",
       "2      1         13\n",
       "       2         40\n",
       "       3         87\n",
       "       4         46\n",
       "       5          7\n",
       "3      1         10\n",
       "       2         30\n",
       "       3         94\n",
       "       4         42\n",
       "       5         10\n",
       "4      1         12\n",
       "       2         43\n",
       "       3        103\n",
       "       4         56\n",
       "       5          7\n",
       "5      1         15\n",
       "       2         48\n",
       "       3         97\n",
       "       4         66\n",
       "       5          9\n",
       "6      1         13\n",
       "       2         22\n",
       "       3         80\n",
       "       4         44\n",
       "       5          6\n",
       "dtype: int64"
      ]
     },
     "execution_count": 29,
     "metadata": {},
     "output_type": "execute_result"
    }
   ],
   "source": [
    "p1=data[['SQ3_R','Q13_5']]\n",
    "p2=p1.value_counts().sort_index()\n",
    "p2"
   ]
  },
  {
   "cell_type": "code",
   "execution_count": 30,
   "id": "f30dca68",
   "metadata": {},
   "outputs": [
    {
     "data": {
      "text/html": [
       "<div>\n",
       "<style scoped>\n",
       "    .dataframe tbody tr th:only-of-type {\n",
       "        vertical-align: middle;\n",
       "    }\n",
       "\n",
       "    .dataframe tbody tr th {\n",
       "        vertical-align: top;\n",
       "    }\n",
       "\n",
       "    .dataframe thead th {\n",
       "        text-align: right;\n",
       "    }\n",
       "</style>\n",
       "<table border=\"1\" class=\"dataframe\">\n",
       "  <thead>\n",
       "    <tr style=\"text-align: right;\">\n",
       "      <th></th>\n",
       "      <th>많이 감소</th>\n",
       "      <th>조금 감소</th>\n",
       "      <th>조금 증가</th>\n",
       "      <th>많이 증가</th>\n",
       "    </tr>\n",
       "  </thead>\n",
       "  <tbody>\n",
       "    <tr>\n",
       "      <th>19~20대</th>\n",
       "      <td>13</td>\n",
       "      <td>40</td>\n",
       "      <td>46</td>\n",
       "      <td>7</td>\n",
       "    </tr>\n",
       "    <tr>\n",
       "      <th>30대</th>\n",
       "      <td>10</td>\n",
       "      <td>30</td>\n",
       "      <td>43</td>\n",
       "      <td>10</td>\n",
       "    </tr>\n",
       "    <tr>\n",
       "      <th>40대</th>\n",
       "      <td>12</td>\n",
       "      <td>43</td>\n",
       "      <td>56</td>\n",
       "      <td>7</td>\n",
       "    </tr>\n",
       "    <tr>\n",
       "      <th>50대</th>\n",
       "      <td>15</td>\n",
       "      <td>48</td>\n",
       "      <td>66</td>\n",
       "      <td>9</td>\n",
       "    </tr>\n",
       "    <tr>\n",
       "      <th>60대</th>\n",
       "      <td>13</td>\n",
       "      <td>22</td>\n",
       "      <td>44</td>\n",
       "      <td>6</td>\n",
       "    </tr>\n",
       "  </tbody>\n",
       "</table>\n",
       "</div>"
      ],
      "text/plain": [
       "        많이 감소  조금 감소  조금 증가  많이 증가\n",
       "19~20대     13     40     46      7\n",
       "30대        10     30     43     10\n",
       "40대        12     43     56      7\n",
       "50대        15     48     66      9\n",
       "60대        13     22     44      6"
      ]
     },
     "execution_count": 30,
     "metadata": {},
     "output_type": "execute_result"
    }
   ],
   "source": [
    "dict_emotion = {'많이 감소':[13,10,12,15,13],'조금 감소':[40,30,43,48,22],'조금 증가':[46,43,56,66,44],'많이 증가':[7,10,7,9,6]}\n",
    "df = pd.DataFrame(dict_emotion, index = ['19~20대','30대','40대','50대','60대'])\n",
    "df"
   ]
  },
  {
   "cell_type": "code",
   "execution_count": 32,
   "id": "99b6e034",
   "metadata": {},
   "outputs": [
    {
     "data": {
      "image/png": "[encoded data removed]",
      "text/plain": [
       "<Figure size 720x432 with 1 Axes>"
      ]
     },
     "metadata": {
      "needs_background": "light"
     },
     "output_type": "display_data"
    }
   ],
   "source": [
    "bar = df[::-1].plot.barh(stacked=True, figsize=(10,6), alpha = 0.5, width = 0.5)\n",
    "\n",
    "for rect in bar.patches:\n",
    " \n",
    "    height = rect.get_height()\n",
    "    width = rect.get_width()\n",
    "    x = rect.get_x()\n",
    "    y = rect.get_y()\n",
    "\n",
    "    label_text = f'{width:.0f}'\n",
    "     \n",
    "    label_x = x + width / 2\n",
    "    label_y = y + height / 2\n",
    "    if width > 0:\n",
    "        bar.text(label_x, label_y, label_text, ha='center', va='center', fontsize=12)\n",
    "\n",
    "plt.xlim(0, 150)\n",
    "plt.title('감사함 또는 안도감')\n",
    "\n",
    "plt.show()"
   ]
  },
  {
   "cell_type": "code",
   "execution_count": 33,
   "id": "ef432434",
   "metadata": {},
   "outputs": [
    {
     "data": {
      "text/plain": [
       "SQ3_R  Q13_6\n",
       "2      2          6\n",
       "       3         39\n",
       "       4        110\n",
       "       5         38\n",
       "3      2          7\n",
       "       3         38\n",
       "       4         92\n",
       "       5         49\n",
       "4      2          6\n",
       "       3         43\n",
       "       4        125\n",
       "       5         47\n",
       "5      2          6\n",
       "       3         35\n",
       "       4        148\n",
       "       5         46\n",
       "6      1          1\n",
       "       2          4\n",
       "       3         35\n",
       "       4         90\n",
       "       5         35\n",
       "dtype: int64"
      ]
     },
     "execution_count": 33,
     "metadata": {},
     "output_type": "execute_result"
    }
   ],
   "source": [
    "p1=data[['SQ3_R','Q13_6']]\n",
    "p2=p1.value_counts().sort_index()\n",
    "p2"
   ]
  },
  {
   "cell_type": "code",
   "execution_count": 34,
   "id": "d454770c",
   "metadata": {},
   "outputs": [
    {
     "data": {
      "text/html": [
       "<div>\n",
       "<style scoped>\n",
       "    .dataframe tbody tr th:only-of-type {\n",
       "        vertical-align: middle;\n",
       "    }\n",
       "\n",
       "    .dataframe tbody tr th {\n",
       "        vertical-align: top;\n",
       "    }\n",
       "\n",
       "    .dataframe thead th {\n",
       "        text-align: right;\n",
       "    }\n",
       "</style>\n",
       "<table border=\"1\" class=\"dataframe\">\n",
       "  <thead>\n",
       "    <tr style=\"text-align: right;\">\n",
       "      <th></th>\n",
       "      <th>많이 감소</th>\n",
       "      <th>조금 감소</th>\n",
       "      <th>조금 증가</th>\n",
       "      <th>많이 증가</th>\n",
       "    </tr>\n",
       "  </thead>\n",
       "  <tbody>\n",
       "    <tr>\n",
       "      <th>19~20대</th>\n",
       "      <td>0</td>\n",
       "      <td>6</td>\n",
       "      <td>110</td>\n",
       "      <td>38</td>\n",
       "    </tr>\n",
       "    <tr>\n",
       "      <th>30대</th>\n",
       "      <td>0</td>\n",
       "      <td>7</td>\n",
       "      <td>92</td>\n",
       "      <td>49</td>\n",
       "    </tr>\n",
       "    <tr>\n",
       "      <th>40대</th>\n",
       "      <td>0</td>\n",
       "      <td>6</td>\n",
       "      <td>125</td>\n",
       "      <td>47</td>\n",
       "    </tr>\n",
       "    <tr>\n",
       "      <th>50대</th>\n",
       "      <td>0</td>\n",
       "      <td>6</td>\n",
       "      <td>148</td>\n",
       "      <td>46</td>\n",
       "    </tr>\n",
       "    <tr>\n",
       "      <th>60대</th>\n",
       "      <td>1</td>\n",
       "      <td>4</td>\n",
       "      <td>90</td>\n",
       "      <td>35</td>\n",
       "    </tr>\n",
       "  </tbody>\n",
       "</table>\n",
       "</div>"
      ],
      "text/plain": [
       "        많이 감소  조금 감소  조금 증가  많이 증가\n",
       "19~20대      0      6    110     38\n",
       "30대         0      7     92     49\n",
       "40대         0      6    125     47\n",
       "50대         0      6    148     46\n",
       "60대         1      4     90     35"
      ]
     },
     "execution_count": 34,
     "metadata": {},
     "output_type": "execute_result"
    }
   ],
   "source": [
    "dict_emotion = {'많이 감소':[0,0,0,0,1],'조금 감소':[6,7,6,6,4],'조금 증가':[110,92,125,148,90],'많이 증가':[38,49,47,46,35]}\n",
    "df = pd.DataFrame(dict_emotion, index = ['19~20대','30대','40대','50대','60대'])\n",
    "df"
   ]
  },
  {
   "cell_type": "code",
   "execution_count": 36,
   "id": "4b20beb9",
   "metadata": {},
   "outputs": [
    {
     "data": {
      "image/png": "[encoded data removed]",
      "text/plain": [
       "<Figure size 720x432 with 1 Axes>"
      ]
     },
     "metadata": {
      "needs_background": "light"
     },
     "output_type": "display_data"
    }
   ],
   "source": [
    "bar = df[::-1].plot.barh(stacked=True, figsize=(10,6), alpha = 0.5, width = 0.5)\n",
    "\n",
    "for rect in bar.patches:\n",
    " \n",
    "    height = rect.get_height()\n",
    "    width = rect.get_width()\n",
    "    x = rect.get_x()\n",
    "    y = rect.get_y()\n",
    "\n",
    "    label_text = f'{width:.0f}'\n",
    "     \n",
    "    label_x = x + width / 2\n",
    "    label_y = y + height / 2\n",
    "    if width > 0:\n",
    "        bar.text(label_x, label_y, label_text, ha='center', va='center', fontsize=12)\n",
    "\n",
    "plt.xlim(0, 225)\n",
    "plt.title('걱정 또는 스트레스')\n",
    "\n",
    "plt.show()"
   ]
  },
  {
   "cell_type": "code",
   "execution_count": 42,
   "id": "787b2c3e",
   "metadata": {},
   "outputs": [
    {
     "data": {
      "text/plain": [
       "SQ3_R  Q13_7\n",
       "2      1          1\n",
       "       2          3\n",
       "       3         98\n",
       "       4         76\n",
       "       5         15\n",
       "3      2          6\n",
       "       3         88\n",
       "       4         78\n",
       "       5         14\n",
       "4      2          7\n",
       "       3        110\n",
       "       4         84\n",
       "       5         20\n",
       "5      2          7\n",
       "       3        125\n",
       "       4         87\n",
       "       5         16\n",
       "6      1          2\n",
       "       2          6\n",
       "       3         83\n",
       "       4         61\n",
       "       5         13\n",
       "dtype: int64"
      ]
     },
     "execution_count": 42,
     "metadata": {},
     "output_type": "execute_result"
    }
   ],
   "source": [
    "p1=data[['SQ3_R','Q13_7']]\n",
    "p2=p1.value_counts().sort_index()\n",
    "p2"
   ]
  },
  {
   "cell_type": "code",
   "execution_count": 43,
   "id": "b40129f8",
   "metadata": {},
   "outputs": [
    {
     "data": {
      "text/html": [
       "<div>\n",
       "<style scoped>\n",
       "    .dataframe tbody tr th:only-of-type {\n",
       "        vertical-align: middle;\n",
       "    }\n",
       "\n",
       "    .dataframe tbody tr th {\n",
       "        vertical-align: top;\n",
       "    }\n",
       "\n",
       "    .dataframe thead th {\n",
       "        text-align: right;\n",
       "    }\n",
       "</style>\n",
       "<table border=\"1\" class=\"dataframe\">\n",
       "  <thead>\n",
       "    <tr style=\"text-align: right;\">\n",
       "      <th></th>\n",
       "      <th>많이 감소</th>\n",
       "      <th>조금 감소</th>\n",
       "      <th>조금 증가</th>\n",
       "      <th>많이 증가</th>\n",
       "    </tr>\n",
       "  </thead>\n",
       "  <tbody>\n",
       "    <tr>\n",
       "      <th>19~20대</th>\n",
       "      <td>1</td>\n",
       "      <td>3</td>\n",
       "      <td>76</td>\n",
       "      <td>15</td>\n",
       "    </tr>\n",
       "    <tr>\n",
       "      <th>30대</th>\n",
       "      <td>0</td>\n",
       "      <td>6</td>\n",
       "      <td>78</td>\n",
       "      <td>14</td>\n",
       "    </tr>\n",
       "    <tr>\n",
       "      <th>40대</th>\n",
       "      <td>0</td>\n",
       "      <td>7</td>\n",
       "      <td>84</td>\n",
       "      <td>20</td>\n",
       "    </tr>\n",
       "    <tr>\n",
       "      <th>50대</th>\n",
       "      <td>0</td>\n",
       "      <td>7</td>\n",
       "      <td>87</td>\n",
       "      <td>16</td>\n",
       "    </tr>\n",
       "    <tr>\n",
       "      <th>60대</th>\n",
       "      <td>2</td>\n",
       "      <td>6</td>\n",
       "      <td>61</td>\n",
       "      <td>13</td>\n",
       "    </tr>\n",
       "  </tbody>\n",
       "</table>\n",
       "</div>"
      ],
      "text/plain": [
       "        많이 감소  조금 감소  조금 증가  많이 증가\n",
       "19~20대      1      3     76     15\n",
       "30대         0      6     78     14\n",
       "40대         0      7     84     20\n",
       "50대         0      7     87     16\n",
       "60대         2      6     61     13"
      ]
     },
     "execution_count": 43,
     "metadata": {},
     "output_type": "execute_result"
    }
   ],
   "source": [
    "dict_emotion = {'많이 감소':[1,0,0,0,2],'조금 감소':[3,6,7,7,6,],'조금 증가':[76,78,84,87,61],'많이 증가':[15,14,20,16,13]}\n",
    "df = pd.DataFrame(dict_emotion, index = ['19~20대','30대','40대','50대','60대'])\n",
    "df"
   ]
  },
  {
   "cell_type": "code",
   "execution_count": 45,
   "id": "7bb8598b",
   "metadata": {},
   "outputs": [
    {
     "data": {
      "image/png": "[encoded data removed]",
      "text/plain": [
       "<Figure size 720x432 with 1 Axes>"
      ]
     },
     "metadata": {
      "needs_background": "light"
     },
     "output_type": "display_data"
    }
   ],
   "source": [
    "bar = df[::-1].plot.barh(stacked=True, figsize=(10,6), alpha = 0.5, width = 0.5)\n",
    "\n",
    "for rect in bar.patches:\n",
    " \n",
    "    height = rect.get_height()\n",
    "    width = rect.get_width()\n",
    "    x = rect.get_x()\n",
    "    y = rect.get_y()\n",
    "\n",
    "    label_text = f'{width:.0f}'\n",
    "     \n",
    "    label_x = x + width / 2\n",
    "    label_y = y + height / 2\n",
    "    if width > 0:\n",
    "        bar.text(label_x, label_y, label_text, ha='center', va='center', fontsize=12)\n",
    "\n",
    "plt.xlim(0, 125)\n",
    "plt.title('외로움 또는 우울감')\n",
    "\n",
    "plt.show()"
   ]
  },
  {
   "cell_type": "code",
   "execution_count": 46,
   "id": "2b002d59",
   "metadata": {},
   "outputs": [
    {
     "data": {
      "text/plain": [
       "SQ3_R  Q13_8\n",
       "2      1        19\n",
       "       2        30\n",
       "       3        92\n",
       "       4        42\n",
       "       5        10\n",
       "3      1        19\n",
       "       2        21\n",
       "       3        91\n",
       "       4        39\n",
       "       5        16\n",
       "4      1        20\n",
       "       2        30\n",
       "       3        80\n",
       "       4        77\n",
       "       5        14\n",
       "5      1        20\n",
       "       2        27\n",
       "       3        83\n",
       "       4        76\n",
       "       5        29\n",
       "6      1        25\n",
       "       2        32\n",
       "       3        57\n",
       "       4        39\n",
       "       5        12\n",
       "dtype: int64"
      ]
     },
     "execution_count": 46,
     "metadata": {},
     "output_type": "execute_result"
    }
   ],
   "source": [
    "p1=data[['SQ3_R','Q13_8']]\n",
    "p2=p1.value_counts().sort_index()\n",
    "p2"
   ]
  },
  {
   "cell_type": "code",
   "execution_count": 47,
   "id": "d6f52ed3",
   "metadata": {},
   "outputs": [
    {
     "data": {
      "text/html": [
       "<div>\n",
       "<style scoped>\n",
       "    .dataframe tbody tr th:only-of-type {\n",
       "        vertical-align: middle;\n",
       "    }\n",
       "\n",
       "    .dataframe tbody tr th {\n",
       "        vertical-align: top;\n",
       "    }\n",
       "\n",
       "    .dataframe thead th {\n",
       "        text-align: right;\n",
       "    }\n",
       "</style>\n",
       "<table border=\"1\" class=\"dataframe\">\n",
       "  <thead>\n",
       "    <tr style=\"text-align: right;\">\n",
       "      <th></th>\n",
       "      <th>많이 감소</th>\n",
       "      <th>조금 감소</th>\n",
       "      <th>조금 증가</th>\n",
       "      <th>많이 증가</th>\n",
       "    </tr>\n",
       "  </thead>\n",
       "  <tbody>\n",
       "    <tr>\n",
       "      <th>19~20대</th>\n",
       "      <td>19</td>\n",
       "      <td>30</td>\n",
       "      <td>42</td>\n",
       "      <td>10</td>\n",
       "    </tr>\n",
       "    <tr>\n",
       "      <th>30대</th>\n",
       "      <td>19</td>\n",
       "      <td>21</td>\n",
       "      <td>39</td>\n",
       "      <td>16</td>\n",
       "    </tr>\n",
       "    <tr>\n",
       "      <th>40대</th>\n",
       "      <td>20</td>\n",
       "      <td>30</td>\n",
       "      <td>77</td>\n",
       "      <td>14</td>\n",
       "    </tr>\n",
       "    <tr>\n",
       "      <th>50대</th>\n",
       "      <td>20</td>\n",
       "      <td>37</td>\n",
       "      <td>76</td>\n",
       "      <td>29</td>\n",
       "    </tr>\n",
       "    <tr>\n",
       "      <th>60대</th>\n",
       "      <td>25</td>\n",
       "      <td>32</td>\n",
       "      <td>39</td>\n",
       "      <td>12</td>\n",
       "    </tr>\n",
       "  </tbody>\n",
       "</table>\n",
       "</div>"
      ],
      "text/plain": [
       "        많이 감소  조금 감소  조금 증가  많이 증가\n",
       "19~20대     19     30     42     10\n",
       "30대        19     21     39     16\n",
       "40대        20     30     77     14\n",
       "50대        20     37     76     29\n",
       "60대        25     32     39     12"
      ]
     },
     "execution_count": 47,
     "metadata": {},
     "output_type": "execute_result"
    }
   ],
   "source": [
    "dict_emotion = {'많이 감소':[19,19,20,20,25],'조금 감소':[30,21,30,37,32],'조금 증가':[42,39,77,76,39],'많이 증가':[10,16,14,29,12]}\n",
    "df = pd.DataFrame(dict_emotion, index = ['19~20대','30대','40대','50대','60대'])\n",
    "df"
   ]
  },
  {
   "cell_type": "code",
   "execution_count": 54,
   "id": "3af8d825",
   "metadata": {},
   "outputs": [
    {
     "data": {
      "text/plain": [
       "<function matplotlib.pyplot.show(close=None, block=None)>"
      ]
     },
     "execution_count": 54,
     "metadata": {},
     "output_type": "execute_result"
    },
    {
     "data": {
      "image/png": "[encoded data removed]",
      "text/plain": [
       "<Figure size 720x432 with 1 Axes>"
      ]
     },
     "metadata": {
      "needs_background": "light"
     },
     "output_type": "display_data"
    }
   ],
   "source": [
    "bar = df[::-1].plot.barh(stacked=True, figsize=(10,6), alpha = 0.5, width = 0.5)\n",
    "\n",
    "for rect in bar.patches:\n",
    " \n",
    "    height = rect.get_height()\n",
    "    width = rect.get_width()\n",
    "    x = rect.get_x()\n",
    "    y = rect.get_y()\n",
    "\n",
    "    label_text = f'{width:.0f}'\n",
    "     \n",
    "    label_x = x + width / 2\n",
    "    label_y = y + height / 2\n",
    "    if width > 0:\n",
    "        bar.text(label_x, label_y, label_text, ha='center', va='center', fontsize=12)\n",
    "\n",
    "plt.xlim(0, 175)\n",
    "plt.title('국가나 사회에 대한 자긍심 또는 자부심')\n",
    "\n",
    "plt.show"
   ]
  }
 ],
 "metadata": {
  "kernelspec": {
   "display_name": "Python 3 (ipykernel)",
   "language": "python",
   "name": "python3"
  },
  "language_info": {
   "codemirror_mode": {
    "name": "ipython",
    "version": 3
   },
   "file_extension": ".py",
   "mimetype": "text/x-python",
   "name": "python",
   "nbconvert_exporter": "python",
   "pygments_lexer": "ipython3",
   "version": "3.9.7"
  }
 },
 "nbformat": 4,
 "nbformat_minor": 5
}
